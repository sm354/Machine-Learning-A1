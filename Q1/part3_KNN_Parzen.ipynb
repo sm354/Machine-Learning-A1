{
 "cells": [
  {
   "cell_type": "markdown",
   "metadata": {},
   "source": [
    "# Binary Classification on Health Data - KNN"
   ]
  },
  {
   "cell_type": "code",
   "execution_count": 4,
   "metadata": {},
   "outputs": [],
   "source": [
    "import pandas as pd\n",
    "import numpy as np\n",
    "import random\n",
    "from mpl_toolkits.mplot3d import Axes3D\n",
    "import matplotlib.pyplot as plt"
   ]
  },
  {
   "cell_type": "code",
   "execution_count": 5,
   "metadata": {},
   "outputs": [
    {
     "name": "stdout",
     "output_type": "stream",
     "text": [
      "<class 'numpy.ndarray'> (700, 4)\n",
      "class distribution [400 300]\n"
     ]
    }
   ],
   "source": [
    "data = pd.read_csv('./health_data.csv').values\n",
    "print(type(data), data.shape)\n",
    "print(\"class distribution\",np.bincount(data[:,-1]))"
   ]
  },
  {
   "cell_type": "code",
   "execution_count": 6,
   "metadata": {},
   "outputs": [
    {
     "name": "stdout",
     "output_type": "stream",
     "text": [
      "5\n",
      "(490, 3) (490, 1)\n"
     ]
    }
   ],
   "source": [
    "# np.random.shuffle(data)\n",
    "\n",
    "# train_data=data[0:490,:]\n",
    "# test_data=data[490:700,:]\n",
    "train_data=np.load('train_data_KNNParzen.npy')\n",
    "test_data=np.load('test_data_KNNParzen.npy')\n",
    "\n",
    "Cross_Validation_data=np.array_split(train_data,5)\n",
    "print(len(Cross_Validation_data))\n",
    "\n",
    "X_TEST,y_TEST = test_data[:,:-1],test_data[:,-1:]\n",
    "print(X_TEST.shape, y_TEST.shape)"
   ]
  },
  {
   "cell_type": "code",
   "execution_count": 7,
   "metadata": {},
   "outputs": [
    {
     "name": "stdout",
     "output_type": "stream",
     "text": [
      "(490, 4) (98, 4)\n",
      "train data size = 398\n",
      "val data size = 98\n",
      "TEST data size = 210\n"
     ]
    }
   ],
   "source": [
    "print(train_data.shape, Cross_Validation_data[0].shape)\n",
    "print('train data size = 398\\nval data size = 98\\nTEST data size = 210')"
   ]
  },
  {
   "cell_type": "markdown",
   "metadata": {},
   "source": [
    "#### Classification Performance Metrics"
   ]
  },
  {
   "cell_type": "code",
   "execution_count": 8,
   "metadata": {},
   "outputs": [],
   "source": [
    "#assuming y_pred, y_true shape is (n,)\n",
    "#assuming class 1 is positive, and other is negative\n",
    "#assuming multi-class such that ypred,ytrue has values in 0,1,2,..,label-1\n",
    "\n",
    "def classification_performance_metrics(y_pred, y_true):\n",
    "    n=y_true.shape\n",
    "    \n",
    "    tp_indices = y_pred==y_true\n",
    "    tp = y_true[tp_indices]\n",
    "    \n",
    "    true_y_per_class = np.bincount(y_true)\n",
    "    labels = true_y_per_class.shape[0]\n",
    "    \n",
    "    tp_per_class = np.zeros((labels,))\n",
    "    tp_per_class[:np.bincount(tp).shape[0]] = np.bincount(tp)\n",
    "    predicted_y_per_class = np.zeros((labels,))\n",
    "    predicted_y_per_class[:np.bincount(y_pred).shape[0]] = np.bincount(y_pred)\n",
    "    \n",
    "    \n",
    "    acc = tp_per_class.sum()/n\n",
    "    \n",
    "    #precision, recall, F1 for each class\n",
    "    for i in range(tp_per_class.shape[0]):\n",
    "        TP = tp_per_class[i]\n",
    "        TN = tp_per_class.sum() - TP\n",
    "        FP = predicted_y_per_class[i] - TP\n",
    "        FN = true_y_per_class[i] - TP\n",
    "        \n",
    "        precision = TP/(TP+FP) if TP+FP!=0 else 0\n",
    "        recall = TP/(TP+FN) if TP+FN!=0 else 0\n",
    "        F1 = 2*TP/(2*TP+FP+FN) if TP+FP+FN!=0 else 0\n",
    "        FPR = FP/(FP+TN) if FP+TN!=0 else 0\n",
    "\n",
    "#         print(\"class{}\".format(i),precision,recall,F1)\n",
    "    \n",
    "    performance={}\n",
    "    performance['acc']=acc\n",
    "    performance['precision']=precision\n",
    "    performance['TPR']=recall\n",
    "    performance['recall']=recall\n",
    "    performance['F1']=F1\n",
    "    performance['FPR']=FPR\n",
    "    return performance"
   ]
  },
  {
   "cell_type": "markdown",
   "metadata": {},
   "source": [
    "# K-Nearest Neighbour"
   ]
  },
  {
   "cell_type": "code",
   "execution_count": 9,
   "metadata": {},
   "outputs": [],
   "source": [
    "'''\n",
    "input - \n",
    "train_data (n,d+1) - last col is y\n",
    "X_test (n,d)\n",
    "k = no. of neighbours\n",
    "threshold \n",
    "metric - 0,1,2 norm : distance/metric between two vectors | 0 means infinite norm\n",
    "\n",
    "output-\n",
    "y_pred (n,)\n",
    "'''\n",
    "def Predict_using_KNN(train_data, X_test, k, threshold, metric):\n",
    "    X_train = train_data[:,:-1]\n",
    "    y_train = train_data[:,-1:]\n",
    "    y_pred_test = np.zeros((X_test.shape[0],),dtype='uint8')\n",
    "    for i in range(len(X_test)):\n",
    "        x = X_test[i].reshape(1,-1)\n",
    "        metrics = np.absolute(X_train-x)\n",
    "        if metric==0:\n",
    "            metrics = metrics.max(axis=1)\n",
    "        elif metric==1:\n",
    "            metrics = metrics.sum(axis=1)\n",
    "        else: # metric=2\n",
    "            metrics = np.sqrt(np.square(metrics).sum(axis=1))\n",
    "        \n",
    "        metrics_mapped_to_labels = np.column_stack((metrics,y_train))\n",
    "        metrics_mapped_to_labels = metrics_mapped_to_labels[metrics_mapped_to_labels[:,0].argsort()]\n",
    "        \n",
    "        #now estimate the posteriors for both the classes (basically here Q_i = k_i/k is computed, k is removed)\n",
    "        Q_0, Q_1 = 0, 0\n",
    "        for j in range(k):\n",
    "            if(metrics_mapped_to_labels[j,1]==0):\n",
    "                Q_0+=1\n",
    "            else:\n",
    "                Q_1+=1\n",
    "        if(Q_1>=threshold*Q_0):\n",
    "            y_pred_test[i]=1\n",
    "    return y_pred_test"
   ]
  },
  {
   "cell_type": "code",
   "execution_count": 10,
   "metadata": {},
   "outputs": [],
   "source": [
    "#cross validate\n",
    "def cross_validate(Cross_Validation_data, k, threshold, metric):\n",
    "    TPR_CV, FPR_CV, test_acc_CV = [],[],[]\n",
    "    for i,validation_data in enumerate(Cross_Validation_data):\n",
    "        remaining_data_for_training = np.concatenate(Cross_Validation_data[0:i]+Cross_Validation_data[i+1:])\n",
    "        train = remaining_data_for_training\n",
    "        X_test, y_test = validation_data[:,:-1], validation_data[:,-1]\n",
    "        y_pred_test = Predict_using_KNN(train, X_test, k=k, threshold=threshold, metric=metric)\n",
    "\n",
    "        performance = classification_performance_metrics(y_pred_test, y_test)\n",
    "\n",
    "        TPR_CV.append(performance['TPR'])\n",
    "        FPR_CV.append(performance['FPR'])\n",
    "        test_acc_CV.append(performance['acc'])\n",
    "\n",
    "    test_acc, TPR, FPR = sum(test_acc_CV)/5 ,np.array(TPR_CV).sum(axis=0)/5, np.array(FPR_CV).sum(axis=0)/5\n",
    "    return test_acc[0], TPR, FPR"
   ]
  },
  {
   "cell_type": "markdown",
   "metadata": {},
   "source": [
    "## what all we need to experiment\n",
    "1. decide the value of k using bias variance decomposition\n",
    "2. decide the metric using bias variance decomposition\n",
    "3. after having k and metric, get the ROC curve \n",
    "4. finally give the cross validation and TEST accuracy!"
   ]
  },
  {
   "cell_type": "code",
   "execution_count": 13,
   "metadata": {},
   "outputs": [
    {
     "name": "stdout",
     "output_type": "stream",
     "text": [
      "k=199\r"
     ]
    },
    {
     "data": {
      "image/png": "[encoded data removed]",
      "text/plain": [
       "<Figure size 432x288 with 1 Axes>"
      ]
     },
     "metadata": {
      "needs_background": "light"
     },
     "output_type": "display_data"
    }
   ],
   "source": [
    "test_accs = []\n",
    "ks=np.arange(1,200,1)\n",
    "for k in ks:\n",
    "    print('k=%u'%k,end='\\r')\n",
    "    _1, _2, _3 = cross_validate(Cross_Validation_data, k=k, threshold=1, metric=2)\n",
    "    test_accs.append(_1)\n",
    "plt.title('experiment1 - finding k | bias variance decompostion')\n",
    "plt.plot(ks, test_accs)\n",
    "plt.xlabel('k')\n",
    "plt.ylabel('validation acc')\n",
    "plt.show()"
   ]
  },
  {
   "cell_type": "code",
   "execution_count": 14,
   "metadata": {},
   "outputs": [],
   "source": [
    "test_accs_KNN = test_accs"
   ]
  },
  {
   "cell_type": "code",
   "execution_count": 15,
   "metadata": {
    "scrolled": true
   },
   "outputs": [
    {
     "name": "stdout",
     "output_type": "stream",
     "text": [
      "max val acc k = 24\n"
     ]
    }
   ],
   "source": [
    "print(\"max val acc k =\",ks[test_accs.index(max(test_accs))])"
   ]
  },
  {
   "cell_type": "code",
   "execution_count": 14,
   "metadata": {
    "scrolled": true
   },
   "outputs": [
    {
     "name": "stdout",
     "output_type": "stream",
     "text": [
      "norm=0\r",
      "norm=1\r",
      "norm=2\r"
     ]
    },
    {
     "data": {
      "image/png": "[encoded data removed]",
      "text/plain": [
       "<Figure size 432x288 with 1 Axes>"
      ]
     },
     "metadata": {
      "needs_background": "light"
     },
     "output_type": "display_data"
    }
   ],
   "source": [
    "test_accs = []\n",
    "norms=[0,1,2]\n",
    "for norm in norms:\n",
    "    print('norm=%u'%norm,end='\\r')\n",
    "    _1, _2, _3 = cross_validate(Cross_Validation_data, k=29, threshold=1, metric=norm)\n",
    "    test_accs.append(_1)\n",
    "plt.title('experiment2 - finding norm')\n",
    "plt.plot(norms, test_accs)\n",
    "plt.xlabel('norm')\n",
    "plt.ylabel('validation acc')\n",
    "plt.savefig('finding norm.png')\n",
    "plt.show()"
   ]
  },
  {
   "cell_type": "markdown",
   "metadata": {},
   "source": [
    "#### Thus L2 norm based distance is the best! | NOTE: 0 is the infinite norm"
   ]
  },
  {
   "cell_type": "code",
   "execution_count": 3,
   "metadata": {},
   "outputs": [],
   "source": [
    "# plot the roc curve \n",
    "TPR_roc, FPR_roc = [], []\n",
    "# thresholds = list(np.arange(0,5,.01))+list(np.arange(5,10,0.1))\n",
    "thresholds=[0,.00001,0.001,0.01,.05,0.1,1,5,10,20,100]\n",
    "for threshold in thresholds:\n",
    "    print('threshold=%f'%threshold,end='\\r')\n",
    "    _1, _2, _3 = cross_validate(Cross_Validation_data, k=29, threshold=threshold, metric=2)\n",
    "    TPR_roc.append(_2), FPR_roc.append(_3)\n",
    "TPR_roc.reverse() \n",
    "FPR_roc.reverse()\n",
    "plt.title('experiment3 - finding threshold | ROC Curve')\n",
    "plt.plot(FPR_roc, TPR_roc,label='TPR vs FPR for class1',marker='.')\n",
    "plt.plot(np.arange(0,1.1,.1),np.arange(0,1.1,.1),linestyle='dashed')\n",
    "plt.xlabel('FPR')\n",
    "plt.ylabel('TPR')\n",
    "plt.legend()\n",
    "plt.show()"
   ]
  },
  {
   "cell_type": "code",
   "execution_count": 18,
   "metadata": {},
   "outputs": [],
   "source": [
    "FPR_KNN = FPR_roc\n",
    "TPR_KNN = TPR_roc"
   ]
  },
  {
   "cell_type": "markdown",
   "metadata": {},
   "source": [
    "#### Taking threshold = 1"
   ]
  },
  {
   "cell_type": "code",
   "execution_count": 19,
   "metadata": {},
   "outputs": [
    {
     "name": "stdout",
     "output_type": "stream",
     "text": [
      "cross validation 0.8510204081632653 0.8221674365191696 0.12043257950945052\n"
     ]
    }
   ],
   "source": [
    "# FINALLY, give cross validation accuracy and complete TEST accuracy\n",
    "cross_val_acc, TPR, FPR = cross_validate(Cross_Validation_data, k=29, threshold=1, metric=2)\n",
    "print(\"cross validation\",cross_val_acc, TPR, FPR)"
   ]
  },
  {
   "cell_type": "code",
   "execution_count": 20,
   "metadata": {},
   "outputs": [
    {
     "name": "stdout",
     "output_type": "stream",
     "text": [
      "{'acc': array([0.86734694]), 'precision': 0.8585365853658536, 'TPR': 0.8301886792452831, 'recall': 0.8301886792452831, 'F1': 0.8441247002398081, 'FPR': 0.10431654676258993}\n"
     ]
    }
   ],
   "source": [
    "y_pred_TEST = Predict_using_KNN(train_data, X_TEST, k=29, threshold=1, metric=2)\n",
    "performance = classification_performance_metrics(y_pred_TEST, y_TEST[:,0])\n",
    "print(performance)"
   ]
  },
  {
   "cell_type": "markdown",
   "metadata": {},
   "source": [
    "# Binary Classification on Health Data - Parzen Windows"
   ]
  },
  {
   "cell_type": "code",
   "execution_count": 21,
   "metadata": {},
   "outputs": [],
   "source": [
    "'''\n",
    "input - \n",
    "train_data (n,d+1) - last col is y\n",
    "X_test (n,d)\n",
    "h = window size => x belongs in hypercube (of vol h^d) centered at x0 if np.max(np.absolute(x-xo))<=h/2\n",
    "threshold \n",
    "\n",
    "output-\n",
    "y_pred (n,)\n",
    "'''\n",
    "def Predict_using_Parzen(train_data, X_test, h, threshold):\n",
    "    X_train = train_data[:,:-1]\n",
    "    y_train = train_data[:,-1]\n",
    "    priors = np.bincount(y_train)/y_train.shape[0]\n",
    "    \n",
    "    y_pred_test = np.zeros((X_test.shape[0],),dtype='uint8')\n",
    "    for i in range(len(X_test)):\n",
    "        x = X_test[i].reshape(1,-1)\n",
    "        window_fn = np.max(np.absolute(X_train-x),axis=1) <= (h/2)\n",
    "        labels_inside_window = y_train[window_fn]\n",
    "        \n",
    "        class_conditional_densities = (labels_inside_window==0).sum(), (labels_inside_window==1).sum()\n",
    "        \n",
    "        #now estimate the posteriors for both the classes (basically here Q_i = p_i*f_i is computed; unnormalised)\n",
    "        Q_1, Q_0 = priors[1]*class_conditional_densities[1], priors[0]*class_conditional_densities[0]\n",
    "        if(Q_1>=threshold*Q_0):\n",
    "            y_pred_test[i]=1\n",
    "\n",
    "    return y_pred_test"
   ]
  },
  {
   "cell_type": "code",
   "execution_count": 22,
   "metadata": {},
   "outputs": [],
   "source": [
    "#cross validate\n",
    "def cross_validate(Cross_Validation_data, h, threshold):\n",
    "    TPR_CV, FPR_CV, test_acc_CV = [],[],[]\n",
    "    for i,validation_data in enumerate(Cross_Validation_data):\n",
    "        remaining_data_for_training = np.concatenate(Cross_Validation_data[0:i]+Cross_Validation_data[i+1:])\n",
    "        train = remaining_data_for_training\n",
    "        X_test, y_test = validation_data[:,:-1], validation_data[:,-1]\n",
    "        y_pred_test = Predict_using_Parzen(train, X_test, h=h, threshold=threshold)\n",
    "\n",
    "        performance = classification_performance_metrics(y_pred_test, y_test)\n",
    "\n",
    "        TPR_CV.append(performance['TPR'])\n",
    "        FPR_CV.append(performance['FPR'])\n",
    "        test_acc_CV.append(performance['acc'])\n",
    "\n",
    "    test_acc, TPR, FPR = sum(test_acc_CV)/5 ,np.array(TPR_CV).sum(axis=0)/5, np.array(FPR_CV).sum(axis=0)/5\n",
    "    return test_acc[0], TPR, FPR"
   ]
  },
  {
   "cell_type": "code",
   "execution_count": 1,
   "metadata": {},
   "outputs": [],
   "source": [
    "test_accs = []\n",
    "hs=np.arange(1,200,1)\n",
    "for h in hs:\n",
    "    print('h=%f'%h,end='\\r')\n",
    "    _1, _2, _3 = cross_validate(Cross_Validation_data, h=h, threshold=1)\n",
    "    test_accs.append(_1)\n",
    "plt.title('experiment1 - finding h | bias variance decompostion')\n",
    "plt.plot(hs, test_accs)\n",
    "plt.xlabel('h')\n",
    "plt.ylabel('validation acc')\n",
    "plt.show()"
   ]
  },
  {
   "cell_type": "code",
   "execution_count": 24,
   "metadata": {},
   "outputs": [],
   "source": [
    "test_accs_Parzen = test_accs"
   ]
  },
  {
   "cell_type": "code",
   "execution_count": 25,
   "metadata": {},
   "outputs": [
    {
     "name": "stdout",
     "output_type": "stream",
     "text": [
      "max val acc h = 22\n"
     ]
    }
   ],
   "source": [
    "print(\"max val acc h =\",hs[test_accs.index(max(test_accs))])"
   ]
  },
  {
   "cell_type": "code",
   "execution_count": 2,
   "metadata": {
    "scrolled": true
   },
   "outputs": [],
   "source": [
    "# plot the roc curve \n",
    "TPR_roc, FPR_roc = [], []\n",
    "# thresholds = list(np.arange(0,5,.01))+list(np.arange(5,10,0.1))\n",
    "thresholds=[0,.00001,0.001,0.01,.05,0.1,1,5,10,20,100]\n",
    "for threshold in thresholds:\n",
    "    print('threshold=%f'%threshold,end='\\r')\n",
    "    _1, _2, _3 = cross_validate(Cross_Validation_data, h=22, threshold=threshold)\n",
    "    TPR_roc.append(_2), FPR_roc.append(_3)\n",
    "TPR_roc.reverse() \n",
    "FPR_roc.reverse()\n",
    "plt.title('experiment2 - finding threshold | ROC Curve')\n",
    "plt.plot(FPR_roc,TPR_roc,label='TPR vs FPR for class1',marker='.')\n",
    "plt.plot(np.arange(0,1.1,.1),np.arange(0,1.1,.1),linestyle='dashed')\n",
    "plt.xlabel('FPR')\n",
    "plt.ylabel('TPR')\n",
    "plt.legend()\n",
    "plt.show()"
   ]
  },
  {
   "cell_type": "code",
   "execution_count": 27,
   "metadata": {},
   "outputs": [],
   "source": [
    "FPR_Parzen=FPR_roc\n",
    "TPR_Parzen=TPR_roc"
   ]
  },
  {
   "cell_type": "code",
   "execution_count": 28,
   "metadata": {},
   "outputs": [
    {
     "name": "stdout",
     "output_type": "stream",
     "text": [
      "cross validation 0.8530612244897959 0.7811717849972022 0.08392280179754416\n"
     ]
    }
   ],
   "source": [
    "# FINALLY, give cross validation accuracy and complete TEST accuracy\n",
    "cross_val_acc, TPR, FPR = cross_validate(Cross_Validation_data, h=22, threshold=1)\n",
    "print(\"cross validation\",cross_val_acc, TPR, FPR)"
   ]
  },
  {
   "cell_type": "code",
   "execution_count": 29,
   "metadata": {},
   "outputs": [
    {
     "name": "stdout",
     "output_type": "stream",
     "text": [
      "{'acc': array([0.8755102]), 'precision': 0.9171270718232044, 'TPR': 0.7830188679245284, 'recall': 0.7830188679245284, 'F1': 0.8447837150127226, 'FPR': 0.0539568345323741}\n"
     ]
    }
   ],
   "source": [
    "y_pred_TEST = Predict_using_Parzen(train_data, X_TEST, h=22, threshold=1)\n",
    "performance = classification_performance_metrics(y_pred_TEST, y_TEST[:,0])\n",
    "print(performance)"
   ]
  },
  {
   "cell_type": "code",
   "execution_count": 74,
   "metadata": {},
   "outputs": [],
   "source": [
    "d=np.array([FPR_KNN,FPR_Parzen,TPR_KNN,TPR_Parzen])\n",
    "np.save('Q1_KNNParzen_ROC.npy',d)"
   ]
  },
  {
   "cell_type": "code",
   "execution_count": 35,
   "metadata": {},
   "outputs": [
    {
     "data": {
      "image/png": "[encoded data removed]",
      "text/plain": [
       "<Figure size 432x288 with 1 Axes>"
      ]
     },
     "metadata": {
      "needs_background": "light"
     },
     "output_type": "display_data"
    }
   ],
   "source": [
    "plt.title('bias-variance decompostion:KNN, Parzen')\n",
    "x=np.arange(1,200,1)\n",
    "plt.plot(x, test_accs_Parzen,label='parzen')\n",
    "plt.plot(x, test_accs_KNN,label='KNN')\n",
    "plt.xlabel('model complexity (window size or #neighbour)')\n",
    "plt.ylabel('validation acc')\n",
    "plt.legend()\n",
    "plt.savefig('BiasVariance_KNNParzen.png')\n",
    "plt.show()"
   ]
  },
  {
   "cell_type": "code",
   "execution_count": null,
   "metadata": {},
   "outputs": [],
   "source": []
  }
 ],
 "metadata": {
  "kernelspec": {
   "display_name": "Python 3",
   "language": "python",
   "name": "python3"
  },
  "language_info": {
   "codemirror_mode": {
    "name": "ipython",
    "version": 3
   },
   "file_extension": ".py",
   "mimetype": "text/x-python",
   "name": "python",
   "nbconvert_exporter": "python",
   "pygments_lexer": "ipython3",
   "version": "3.7.5"
  }
 },
 "nbformat": 4,
 "nbformat_minor": 2
}
