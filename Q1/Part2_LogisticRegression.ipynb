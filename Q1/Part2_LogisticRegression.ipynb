{
 "cells": [
  {
   "cell_type": "markdown",
   "metadata": {},
   "source": [
    "# Binary Classification on Health Data\n",
    "\n",
    "Logistic regression with Generalised Linear Models. Use regularisation (if needed) and different loss functions"
   ]
  },
  {
   "cell_type": "code",
   "execution_count": 1,
   "metadata": {},
   "outputs": [],
   "source": [
    "import pandas as pd\n",
    "import numpy as np\n",
    "import random\n",
    "from mpl_toolkits.mplot3d import Axes3D\n",
    "import matplotlib.pyplot as plt\n",
    "from sklearn.preprocessing import PolynomialFeatures"
   ]
  },
  {
   "cell_type": "code",
   "execution_count": 2,
   "metadata": {
    "scrolled": true
   },
   "outputs": [
    {
     "name": "stdout",
     "output_type": "stream",
     "text": [
      "<class 'numpy.ndarray'> (700, 4)\n",
      "class distribution [400 300]\n"
     ]
    }
   ],
   "source": [
    "data = pd.read_csv('./health_data.csv').values\n",
    "print(type(data), data.shape)\n",
    "print(\"class distribution\",np.bincount(data[:,-1]))"
   ]
  },
  {
   "cell_type": "code",
   "execution_count": 3,
   "metadata": {},
   "outputs": [
    {
     "name": "stdout",
     "output_type": "stream",
     "text": [
      "5\n",
      "(210, 3) (210, 1)\n"
     ]
    }
   ],
   "source": [
    "np.random.shuffle(data)\n",
    "\n",
    "train_data=data[0:490,:].astype('float64')\n",
    "TEST_data=data[490:700,:].astype('float64')\n",
    "\n",
    "mean = train_data[:,:-1].mean(axis=0,keepdims=True)\n",
    "stddev = train_data[:,:-1].std(axis=0,keepdims=True)\n",
    "\n",
    "#normalising data since we'll use optimization algorithms. No closed form solutions exists here.\n",
    "train_data[:,:-1]-=mean\n",
    "TEST_data[:,:-1]-=mean\n",
    "train_data[:,:-1]/=stddev\n",
    "TEST_data[:,:-1]/=stddev\n",
    "\n",
    "Cross_Validation_data=np.array_split(train_data,5)\n",
    "print(len(Cross_Validation_data))\n",
    "\n",
    "X_TEST,y_TEST = TEST_data[:,:-1],TEST_data[:,-1:]\n",
    "print(X_TEST.shape, y_TEST.shape)"
   ]
  },
  {
   "cell_type": "code",
   "execution_count": 4,
   "metadata": {},
   "outputs": [
    {
     "name": "stdout",
     "output_type": "stream",
     "text": [
      "(490, 4) (98, 4)\n",
      "train size = 392\n",
      "val size = 98\n",
      "test size = 210\n"
     ]
    }
   ],
   "source": [
    "print(train_data.shape, Cross_Validation_data[0].shape)\n",
    "print('train size = {}'.format(train_data.shape[0]-Cross_Validation_data[0].shape[0]))\n",
    "print('val size = {}'.format(Cross_Validation_data[0].shape[0]))\n",
    "print('test size = {}'.format(TEST_data.shape[0]))"
   ]
  },
  {
   "cell_type": "code",
   "execution_count": 5,
   "metadata": {},
   "outputs": [],
   "source": [
    "poly=PolynomialFeatures(1) #this just adds '1' in x i.e. gives augmented X"
   ]
  },
  {
   "cell_type": "code",
   "execution_count": 6,
   "metadata": {},
   "outputs": [],
   "source": [
    "#assuming y_pred, y_true shape is (n,)\n",
    "#assuming class 1 is positive, and other is negative\n",
    "#assuming multi-class such that ypred,ytrue has values in 0,1,2,..,label-1\n",
    "def classification_performance_metrics(y_pred, y_true):\n",
    "    n=y_true.shape\n",
    "    \n",
    "    tp_indices = y_pred==y_true\n",
    "    tp = y_true[tp_indices]\n",
    "    \n",
    "    true_y_per_class = np.bincount(y_true)\n",
    "    labels = true_y_per_class.shape[0]\n",
    "    \n",
    "    tp_per_class = np.zeros((labels,))\n",
    "    tp_per_class[:np.bincount(tp).shape[0]] = np.bincount(tp)\n",
    "    predicted_y_per_class = np.zeros((labels,))\n",
    "    predicted_y_per_class[:np.bincount(y_pred).shape[0]] = np.bincount(y_pred)\n",
    "    \n",
    "    \n",
    "    acc = tp_per_class.sum()/n\n",
    "    \n",
    "    #precision, recall, F1 for each class\n",
    "    for i in range(tp_per_class.shape[0]):\n",
    "        TP = tp_per_class[i]\n",
    "        TN = tp_per_class.sum() - TP\n",
    "        FP = predicted_y_per_class[i] - TP\n",
    "        FN = true_y_per_class[i] - TP\n",
    "        \n",
    "        precision = TP/(TP+FP) if TP+FP!=0 else 0\n",
    "        recall = TP/(TP+FN) if TP+FN!=0 else 0\n",
    "        F1 = 2*TP/(2*TP+FP+FN) if TP+FP+FN!=0 else 0\n",
    "        FPR = FP/(FP+TN) if FP+TN!=0 else 0\n",
    "\n",
    "#         print(\"class{}\".format(i),precision,recall,F1)\n",
    "    \n",
    "    performance={}\n",
    "    performance['acc']=acc\n",
    "    performance['precision']=precision\n",
    "    performance['TPR']=recall\n",
    "    performance['recall']=recall\n",
    "    performance['F1']=F1\n",
    "    performance['FPR']=FPR\n",
    "    return performance\n",
    "\n",
    "def accuracy(Ypred, Ytrue):\n",
    "    return ((Ypred==Ytrue).sum())/Ytrue.shape[0]"
   ]
  },
  {
   "cell_type": "markdown",
   "metadata": {},
   "source": [
    "# Generalised Linear Models \n",
    "g(x) = sigma(wT.phi_x) with MAE, MSE and Cross Entropy Loss\n",
    "   \n",
    "### Regularisation - \n",
    "various forms and their interpretations are explicitly shown in question 2. Here, regularisation is only used to remove overfiting i.e. adding bias into the model. Thus, first we attempt to overfit the model and then regularise if overfitting happens\n",
    "\n",
    "### SGD - \n",
    "implemented on the final model with final loss function"
   ]
  },
  {
   "cell_type": "code",
   "execution_count": 27,
   "metadata": {},
   "outputs": [],
   "source": [
    "def sigmoid(Z):\n",
    "    Z = np.clip(Z ,a_min = -100, a_max = 100)\n",
    "    sig = 1/(1 + np.exp(-Z))\n",
    "    sig = np.clip(sig,a_min = 10**-7, a_max = 1-(10**-7))\n",
    "    return sig #shape = n,1\n",
    "\n",
    "def hypothesis(X, w):\n",
    "    return sigmoid(X.dot(w)) #shape = n,1\n",
    "\n",
    "def predict(X, w, threshold=0.5): \n",
    "    temp = hypothesis(X,w)\n",
    "    Ypred = np.ones((X.shape[0],1),dtype='uint8')\n",
    "    Ypred[temp<threshold]=0\n",
    "    Ypred.reshape(-1,1)\n",
    "    return Ypred\n",
    "\n",
    "def mae_loss(Y_true,Y_pred):\n",
    "    return (np.absolute(Y_true-Y_pred)).mean()\n",
    "\n",
    "def mse_loss(Y_true,Y_pred):\n",
    "    return ((Y_true-Y_pred)**2).mean()\n",
    "\n",
    "def cross_entropy_loss(y_true, y_pred):\n",
    "    return (-np.multiply(y_true,np.log(y_pred)) - np.multiply((1-y_true),np.log(1-y_pred))).mean()"
   ]
  },
  {
   "cell_type": "code",
   "execution_count": 28,
   "metadata": {},
   "outputs": [],
   "source": [
    "def GradientDescent_MAE(X_train,y_train, X_test,y_test, epochs, lr, alpha, threshold=0.5):    \n",
    "    train_errors, test_errors = [], []\n",
    "    train_accs, test_accs = [], []\n",
    "\n",
    "    n,m=X_train.shape\n",
    "    \n",
    "    #initialise weights\n",
    "    w = np.random.random((m,1))\n",
    "    for _ in range(epochs):\n",
    "        hypothesis_train = hypothesis(X_train, w)\n",
    "        hypothesis_test = hypothesis(X_test, w)\n",
    "        \n",
    "        gradient = (X_train.T.dot( np.sign(hypothesis_train - y_train)*(hypothesis_train)*(1-hypothesis_train) ) / n) + 2*alpha*w \n",
    "\n",
    "        train_errors.append(mae_loss(y_train, hypothesis_train))\n",
    "        test_errors.append(mae_loss(y_test, hypothesis_test))\n",
    "        \n",
    "        y_pred_train = predict(X_train, w, threshold)\n",
    "        y_pred_test = predict(X_test, w, threshold)\n",
    "\n",
    "        train_accs.append(accuracy(y_pred_train, y_train))\n",
    "        test_accs.append(accuracy(y_pred_test, y_test))\n",
    "        \n",
    "        w = w - lr * gradient\n",
    "        \n",
    "    return y_pred_train, y_pred_test, train_errors, test_errors, train_accs, test_accs"
   ]
  },
  {
   "cell_type": "code",
   "execution_count": 29,
   "metadata": {},
   "outputs": [],
   "source": [
    "def GradientDescent_MSE(X_train,y_train, X_test,y_test, epochs, lr, alpha, threshold=0.5):        \n",
    "    train_errors, test_errors = [], []\n",
    "    train_accs, test_accs = [], []\n",
    "\n",
    "    n,m=X_train.shape\n",
    "    \n",
    "    #initialise weights\n",
    "    w = np.random.random((m,1))\n",
    "    for _ in range(epochs):\n",
    "        hypothesis_train = hypothesis(X_train, w)\n",
    "        hypothesis_test = hypothesis(X_test, w)\n",
    "        \n",
    "        gradient = 2*(X_train.T.dot( (hypothesis_train - y_train)*(hypothesis_train)*(1-hypothesis_train) ) / n) + 2*alpha*w #y_train should be n,1\n",
    "\n",
    "        train_errors.append(mse_loss(y_train, hypothesis_train))\n",
    "        test_errors.append(mse_loss(y_test, hypothesis_test))\n",
    "        \n",
    "        y_pred_train = predict(X_train, w, threshold)\n",
    "        y_pred_test = predict(X_test, w, threshold)\n",
    "\n",
    "        train_accs.append(accuracy(y_pred_train, y_train))\n",
    "        test_accs.append(accuracy(y_pred_test, y_test))\n",
    "        \n",
    "        w = w - lr * gradient\n",
    "\n",
    "    return y_pred_train, y_pred_test, train_errors, test_errors, train_accs, test_accs"
   ]
  },
  {
   "cell_type": "code",
   "execution_count": 30,
   "metadata": {},
   "outputs": [],
   "source": [
    "def GradientDescent_CrossEntropy(X_train,y_train, X_test,y_test, epochs, lr, alpha, threshold=0.5):  \n",
    "    train_errors, test_errors = [], []\n",
    "    train_accs, test_accs = [], []\n",
    "    \n",
    "    n,m=X_train.shape\n",
    "    \n",
    "    #initialise weights\n",
    "    w = np.random.random((m,1))\n",
    "    for _ in range(epochs):\n",
    "        hypothesis_train = hypothesis(X_train, w)\n",
    "        hypothesis_test = hypothesis(X_test, w)\n",
    "        \n",
    "        gradient = (2*((X_train.T).dot(hypothesis_train - y_train)) / n) + 2*alpha*w #y_train should be n,1\n",
    "\n",
    "        train_errors.append(cross_entropy_loss(y_train, hypothesis_train))\n",
    "        test_errors.append(cross_entropy_loss(y_test, hypothesis_test))\n",
    "        \n",
    "        y_pred_train = predict(X_train, w, threshold)\n",
    "        y_pred_test = predict(X_test, w, threshold)\n",
    "\n",
    "        train_accs.append(accuracy(y_pred_train, y_train))\n",
    "        test_accs.append(accuracy(y_pred_test, y_test))\n",
    "        \n",
    "        w = w - lr * gradient\n",
    "        \n",
    "    return y_pred_train, y_pred_test, train_errors, test_errors, train_accs, test_accs"
   ]
  },
  {
   "cell_type": "code",
   "execution_count": 31,
   "metadata": {},
   "outputs": [],
   "source": [
    "#cross validate \n",
    "def cross_validate(Cross_Validation_data, epochs, lr, alpha, loss, threshold=0.5):\n",
    "    train_error_CV, test_error_CV, train_acc_CV, test_acc_CV = [],[],[],[] #gradient descent curve parameters\n",
    "    train_performance_CV, test_performance_CV = [],[]\n",
    "    \n",
    "    for i,validation_data in enumerate(Cross_Validation_data):\n",
    "        print('validating on part %u'%i,end='\\r')\n",
    "        remaining_data_for_training = np.concatenate(Cross_Validation_data[0:i]+Cross_Validation_data[i+1:])\n",
    "        X_train, y_train = remaining_data_for_training[:,:-1], remaining_data_for_training[:,-1:]\n",
    "        X_test, y_test = validation_data[:,:-1], validation_data[:,-1:]\n",
    "\n",
    "        Phi_X = poly.fit_transform(X_train)\n",
    "        Phi_Xt = poly.fit_transform(X_test)\n",
    "        \n",
    "        if loss=='mae':\n",
    "            y_pred_train, y_pred_test, train_error, test_error, train_acc, test_acc = GradientDescent_MAE(Phi_X, y_train, Phi_Xt, y_test, epochs=100, lr=lr, alpha = alpha, threshold=threshold)\n",
    "        elif loss=='mse':\n",
    "            y_pred_train, y_pred_test, train_error, test_error, train_acc, test_acc = GradientDescent_MSE(Phi_X, y_train, Phi_Xt, y_test, epochs=100, lr=lr, alpha = alpha, threshold=threshold)\n",
    "        elif loss=='crossentropy':\n",
    "            y_pred_train, y_pred_test, train_error, test_error, train_acc, test_acc = GradientDescent_CrossEntropy(Phi_X, y_train, Phi_Xt, y_test, epochs=100, lr=lr, alpha = alpha, threshold=threshold)\n",
    "\n",
    "        train_error_CV.append(train_error)\n",
    "        test_error_CV.append(test_error)\n",
    "        train_acc_CV.append(train_acc)\n",
    "        test_acc_CV.append(test_acc)\n",
    "        \n",
    "        train_performance = classification_performance_metrics(y_pred_train[:,-1], y_train[:,-1].astype(np.uint8))\n",
    "        test_performance = classification_performance_metrics(y_pred_test[:,-1], y_test[:,-1].astype(np.uint8))\n",
    "\n",
    "        train_performance_CV.append(train_performance)\n",
    "        test_performance_CV.append(test_performance)\n",
    "\n",
    "    train_performance={}\n",
    "    train_performance['acc']=train_performance['precision']=train_performance['TPR']=train_performance['recall']=train_performance['F1']=train_performance['FPR']=0\n",
    "    test_performance={}\n",
    "    test_performance['acc']=test_performance['precision']=test_performance['TPR']=test_performance['recall']=test_performance['F1']=test_performance['FPR']=0\n",
    "\n",
    "    n_cv = len(train_performance_CV)\n",
    "    for i in range(n_cv): #cross validation of 5\n",
    "        for key in train_performance:\n",
    "            train_performance[key]+=train_performance_CV[i][key]\n",
    "            test_performance[key]+=test_performance_CV[i][key]\n",
    "    for key in train_performance:\n",
    "        train_performance[key]/=n_cv\n",
    "        test_performance[key]/=n_cv\n",
    "\n",
    "    train_error, test_error, train_acc, test_acc = np.array(train_error_CV).sum(axis=0)/5, np.array(test_error_CV).sum(axis=0)/5, np.array(train_acc_CV).sum(axis=0)/5, np.array(test_acc_CV).sum(axis=0)/5\n",
    "\n",
    "    return train_error, test_error, train_acc, test_acc, train_performance, test_performance"
   ]
  },
  {
   "cell_type": "code",
   "execution_count": 12,
   "metadata": {},
   "outputs": [],
   "source": [
    "val_acc_list, val_f1_list, train_acc_list, TEST_acc_list, precision_list, recall_list, f1_list=[],[],[],[],[],[],[]"
   ]
  },
  {
   "cell_type": "markdown",
   "metadata": {},
   "source": [
    "MAE Loss function"
   ]
  },
  {
   "cell_type": "code",
   "execution_count": 13,
   "metadata": {},
   "outputs": [],
   "source": [
    "## find appropriate learning rate\n",
    "\n",
    "# plt.figure(figsize=(16.,6.))\n",
    "# for lr in [1, .1, .01]:\n",
    "#     alpha=0\n",
    "#     train_error, test_error, train_acc, test_acc, _1, _2 = cross_validate(Cross_Validation_data, epochs=200, lr=lr, alpha=alpha)\n",
    "#     print(\"train_error, val_error\", train_error[-1],test_error[-1])\n",
    "#     print(\"train_acc, val_acc\", train_acc[-1],test_acc[-1])\n",
    "#     print()\n",
    "\n",
    "#     plt.subplot(1,2,1)\n",
    "#     plt.xlabel('epochs')\n",
    "#     plt.ylabel('error')\n",
    "#     plt.plot(train_error,label='train error (lr,alpha)=({},{})'.format(lr,alpha))\n",
    "#     plt.plot(test_error,label='val error (lr,alpha)=({},{})'.format(lr,alpha))\n",
    "#     plt.legend()\n",
    "#     plt.subplot(1,2,2)\n",
    "#     plt.xlabel('epochs')\n",
    "#     plt.ylabel('acc')\n",
    "#     plt.plot(train_acc,label='train acc (lr,alpha)=({},{})'.format(lr,alpha))\n",
    "#     plt.plot(test_acc,label='val acc (lr,alpha)=({},{})'.format(lr,alpha))\n",
    "#     plt.legend()\n",
    "    \n",
    "# plt.show()"
   ]
  },
  {
   "cell_type": "code",
   "execution_count": 14,
   "metadata": {},
   "outputs": [
    {
     "name": "stdout",
     "output_type": "stream",
     "text": [
      "validating on part 0\r",
      "validating on part 1\r",
      "validating on part 2\r",
      "validating on part 3\r",
      "validating on part 4\r",
      "validation acc = 0.846938775510204 ; validation macro F1 = 0.8302233663340799\n"
     ]
    }
   ],
   "source": [
    "# FINALLY, give cross validation accuracy and complete TEST accuracy\n",
    "train_error, test_error, train_acc, test_acc, train_perf, val_perf = cross_validate(Cross_Validation_data, epochs=200, lr=1, alpha=0,loss='mae')\n",
    "print('validation acc =',val_perf['acc'][0],\"; validation macro F1 =\",val_perf['F1'])\n",
    "\n",
    "val_acc_list.append(val_perf['acc'][0])\n",
    "val_f1_list.append(val_perf['F1'])"
   ]
  },
  {
   "cell_type": "code",
   "execution_count": 15,
   "metadata": {},
   "outputs": [
    {
     "name": "stdout",
     "output_type": "stream",
     "text": [
      "train acc, TEST acc, macro F1 score\n",
      "0.8551020408163266 0.861904761904762 0.8284023668639053\n"
     ]
    }
   ],
   "source": [
    "Phi_X = poly.fit_transform(train_data[:,:-1])\n",
    "Phi_Xt = poly.fit_transform(TEST_data[:,:-1])\n",
    "\n",
    "y_pred_train, y_pred_TEST, train_error, TEST_error, train_acc, TEST_acc = GradientDescent_MAE(Phi_X, train_data[:,-1:].astype(np.uint8), Phi_Xt, TEST_data[:,-1:].astype(np.uint8), epochs=200, lr=1, alpha = 0)\n",
    "train_performance = classification_performance_metrics(y_pred_train[:,-1], train_data[:,-1].astype(np.uint8))\n",
    "TEST_performance = classification_performance_metrics(y_pred_TEST[:,-1], TEST_data[:,-1].astype(np.uint8))\n",
    "print('train acc, TEST acc, macro F1 score')\n",
    "print( train_performance['acc'][0], TEST_performance['acc'][0], TEST_performance['F1'] )\n",
    "\n",
    "train_acc_list.append(train_performance['acc'][0])\n",
    "TEST_acc_list.append(TEST_performance['acc'][0])\n",
    "precision_list.append(TEST_performance['precision'])\n",
    "recall_list.append(TEST_performance['recall'])\n",
    "f1_list.append(TEST_performance['F1'])"
   ]
  },
  {
   "cell_type": "markdown",
   "metadata": {},
   "source": [
    "MSE LOSS FUnction"
   ]
  },
  {
   "cell_type": "code",
   "execution_count": 16,
   "metadata": {},
   "outputs": [
    {
     "name": "stdout",
     "output_type": "stream",
     "text": [
      "validating on part 0\r",
      "validating on part 1\r",
      "validating on part 2\r",
      "validating on part 3\r",
      "validating on part 4\r",
      "validation acc = 0.8551020408163265 ; validation macro F1 = 0.8378777831364038\n"
     ]
    }
   ],
   "source": [
    "# FINALLY, give cross validation accuracy and complete TEST accuracy\n",
    "train_error, test_error, train_acc, test_acc, train_perf, val_perf = cross_validate(Cross_Validation_data, epochs=200, lr=1, alpha=0,loss='mse')\n",
    "print('validation acc =',val_perf['acc'][0],\"; validation macro F1 =\",val_perf['F1'])\n",
    "\n",
    "val_acc_list.append(val_perf['acc'][0])\n",
    "val_f1_list.append(val_perf['F1'])"
   ]
  },
  {
   "cell_type": "code",
   "execution_count": 17,
   "metadata": {},
   "outputs": [
    {
     "name": "stdout",
     "output_type": "stream",
     "text": [
      "train acc, TEST acc, macro F1 score\n",
      "0.8571428571428571 0.8571428571428571 0.8170731707317073\n"
     ]
    }
   ],
   "source": [
    "Phi_X = poly.fit_transform(train_data[:,:-1])\n",
    "Phi_Xt = poly.fit_transform(TEST_data[:,:-1])\n",
    "\n",
    "y_pred_train, y_pred_TEST, train_error, TEST_error, train_acc, TEST_acc = GradientDescent_MSE(Phi_X, train_data[:,-1:].astype(np.uint8), Phi_Xt, TEST_data[:,-1:].astype(np.uint8), epochs=200, lr=1, alpha = 0)\n",
    "train_performance = classification_performance_metrics(y_pred_train[:,-1], train_data[:,-1].astype(np.uint8))\n",
    "TEST_performance = classification_performance_metrics(y_pred_TEST[:,-1], TEST_data[:,-1].astype(np.uint8))\n",
    "print('train acc, TEST acc, macro F1 score')\n",
    "print( train_performance['acc'][0], TEST_performance['acc'][0], TEST_performance['F1'] )\n",
    "\n",
    "train_acc_list.append(train_performance['acc'][0])\n",
    "TEST_acc_list.append(TEST_performance['acc'][0])\n",
    "precision_list.append(TEST_performance['precision'])\n",
    "recall_list.append(TEST_performance['recall'])\n",
    "f1_list.append(TEST_performance['F1'])"
   ]
  },
  {
   "cell_type": "markdown",
   "metadata": {},
   "source": [
    "Cross Entropy "
   ]
  },
  {
   "cell_type": "code",
   "execution_count": 18,
   "metadata": {},
   "outputs": [
    {
     "name": "stdout",
     "output_type": "stream",
     "text": [
      "validation acc = 0.8551020408163265 ; validation macro F1 = 0.8370309021371571\n"
     ]
    }
   ],
   "source": [
    "# FINALLY, give cross validation accuracy and complete TEST accuracy\n",
    "train_error, test_error, train_acc, test_acc, train_perf, val_perf = cross_validate(Cross_Validation_data, epochs=200, lr=1, alpha=0,loss='crossentropy')\n",
    "print('validation acc =',val_perf['acc'][0],\"; validation macro F1 =\",val_perf['F1'])\n",
    "\n",
    "val_acc_list.append(val_perf['acc'][0])\n",
    "val_f1_list.append(val_perf['F1'])"
   ]
  },
  {
   "cell_type": "code",
   "execution_count": 19,
   "metadata": {},
   "outputs": [
    {
     "name": "stdout",
     "output_type": "stream",
     "text": [
      "train acc, TEST acc, macro F1 score\n",
      "0.8571428571428571 0.8571428571428571 0.8148148148148148\n"
     ]
    }
   ],
   "source": [
    "Phi_X = poly.fit_transform(train_data[:,:-1])\n",
    "Phi_Xt = poly.fit_transform(TEST_data[:,:-1])\n",
    "\n",
    "y_pred_train, y_pred_TEST, train_error, TEST_error, train_acc, TEST_acc = GradientDescent_CrossEntropy(Phi_X, train_data[:,-1:].astype(np.uint8), Phi_Xt, TEST_data[:,-1:].astype(np.uint8), epochs=200, lr=1, alpha = 0)\n",
    "train_performance = classification_performance_metrics(y_pred_train[:,-1], train_data[:,-1].astype(np.uint8))\n",
    "TEST_performance = classification_performance_metrics(y_pred_TEST[:,-1], TEST_data[:,-1].astype(np.uint8))\n",
    "print('train acc, TEST acc, macro F1 score')\n",
    "print( train_performance['acc'][0], TEST_performance['acc'][0], TEST_performance['F1'] )\n",
    "\n",
    "train_acc_list.append(train_performance['acc'][0])\n",
    "TEST_acc_list.append(TEST_performance['acc'][0])\n",
    "precision_list.append(TEST_performance['precision'])\n",
    "recall_list.append(TEST_performance['recall'])\n",
    "f1_list.append(TEST_performance['F1'])"
   ]
  },
  {
   "cell_type": "code",
   "execution_count": 21,
   "metadata": {},
   "outputs": [
    {
     "data": {
      "text/plain": [
       "array([[0.8469, 0.8551, 0.8551],\n",
       "       [0.8302, 0.8379, 0.837 ],\n",
       "       [0.8551, 0.8571, 0.8571],\n",
       "       [0.8619, 0.8571, 0.8571],\n",
       "       [0.814 , 0.8272, 0.8354],\n",
       "       [0.8434, 0.8072, 0.7952],\n",
       "       [0.8284, 0.8171, 0.8148]])"
      ]
     },
     "execution_count": 21,
     "metadata": {},
     "output_type": "execute_result"
    }
   ],
   "source": [
    "# results=np.array([val_acc_list, val_f1_list, train_acc_list, TEST_acc_list, precision_list, recall_list, f1_list])\n",
    "# np.save('mae_mse_CrEnt.npy',results)\n",
    "results = np.round(np.load('mae_mse_CrEnt.npy'),4)\n",
    "results\n",
    "# df = pd.DataFrame(data=results,index=['Val Acc','Val F1','Train Acc','Test Acc','Precision','Recall','F1'],columns=['MAE','MSE','CrossEntropy'])\n",
    "# df.to_csv('mae_mse_CrEnt.csv')"
   ]
  },
  {
   "cell_type": "markdown",
   "metadata": {},
   "source": [
    "### Getting ROC curves"
   ]
  },
  {
   "cell_type": "code",
   "execution_count": 45,
   "metadata": {},
   "outputs": [
    {
     "name": "stdout",
     "output_type": "stream",
     "text": [
      "validating on part 4\r"
     ]
    },
    {
     "data": {
      "text/plain": [
       "(2, 3, 11)"
      ]
     },
     "execution_count": 45,
     "metadata": {},
     "output_type": "execute_result"
    }
   ],
   "source": [
    "TPR,FPR=[],[]\n",
    "thresholds=np.arange(0,1.1,0.1)\n",
    "for loss in ['mae','mse','crossentropy']:\n",
    "    TPR_loss, FPR_loss = [],[]\n",
    "    for th in thresholds:\n",
    "        _1, _2, _3, _4, _5, val_perf = cross_validate(Cross_Validation_data, epochs=200, lr=1, alpha=0,loss=loss,threshold=th)\n",
    "        TPR_loss.append(val_perf['TPR'])\n",
    "        FPR_loss.append(val_perf['FPR'])\n",
    "    #since we will plot for class-1, thus reverse - ensuring AUC is positive\n",
    "    TPR_loss.reverse()\n",
    "    FPR_loss.reverse()\n",
    "    TPR.append(TPR_loss)\n",
    "    FPR.append(FPR_loss)\n",
    "TPR_FPR=np.array([FPR,TPR])\n",
    "np.save('logistic_3lossFn_roc.npy',TPR_FPR)\n",
    "TPR_FPR.shape"
   ]
  },
  {
   "cell_type": "markdown",
   "metadata": {},
   "source": [
    "#### Bias Variance decomposition -\n",
    "using polynomial kernel to go into higher space and possibly overfit"
   ]
  },
  {
   "cell_type": "code",
   "execution_count": 34,
   "metadata": {
    "scrolled": false
   },
   "outputs": [
    {
     "name": "stdout",
     "output_type": "stream",
     "text": [
      "validating on part 4\r"
     ]
    },
    {
     "data": {
      "image/png": "[encoded data removed]",
      "text/plain": [
       "<Figure size 1152x432 with 2 Axes>"
      ]
     },
     "metadata": {
      "needs_background": "light"
     },
     "output_type": "display_data"
    }
   ],
   "source": [
    "plt.figure(figsize=(16.,6.))\n",
    "degrees=np.array([1,2,3,4])\n",
    "alpha,lr=0,1\n",
    "train_ERROR, val_ERROR, train_ACC, val_ACC = [],[],[],[]\n",
    "for n in degrees:\n",
    "    print('n=%u'%n,end='\\r')\n",
    "    poly=PolynomialFeatures(n)\n",
    "    Phi_X = poly.fit_transform(train_data[:,:-1])\n",
    "    Phi_Xt = poly.fit_transform(TEST_data[:,:-1])\n",
    "\n",
    "    train_error, test_error, train_acc, test_acc,_1,_2 = cross_validate(Cross_Validation_data, epochs=200, lr=1, alpha=0,loss='mse')\n",
    "\n",
    "    train_ERROR.append(train_error[-1])\n",
    "    val_ERROR.append(test_error[-1])\n",
    "    train_ACC.append(train_acc[-1])\n",
    "    val_ACC.append(test_acc[-1])\n",
    "\n",
    "plt.subplot(1,2,1)\n",
    "plt.xlabel('model complexity/polynomial degree')\n",
    "plt.ylabel('mse loss')\n",
    "plt.plot(degrees, train_ERROR,label='train error',marker='.')\n",
    "plt.plot(degrees, val_ERROR,label='val error',marker='.')\n",
    "plt.legend()\n",
    "plt.subplot(1,2,2)\n",
    "plt.xlabel('model complexity/polynomial degree')\n",
    "plt.ylabel('accuracy')\n",
    "plt.plot(degrees, train_ACC,label='train acc',marker='.')\n",
    "plt.plot(degrees, val_ACC,label='val acc',marker='.')\n",
    "plt.legend()\n",
    "plt.savefig('biasVariance_logistic.png')\n",
    "plt.show()"
   ]
  },
  {
   "cell_type": "markdown",
   "metadata": {},
   "source": [
    "# Stochastic gradient descent for COMPLETENESS"
   ]
  },
  {
   "cell_type": "code",
   "execution_count": 18,
   "metadata": {},
   "outputs": [],
   "source": [
    "def StochasticGradientDescent_MAE(X_train,y_train, X_test,y_test, epochs, lr, alpha, threshold=0.5, batch_size=100):        \n",
    "    train_error, test_error = [], []\n",
    "\n",
    "    n,m=X_train.shape\n",
    "    w = np.random.random((m,1)) \n",
    "    for _ in range(epochs):\n",
    "        X_train_mini_batches = np.array_split(X_train, n//batch_size)\n",
    "        y_train_mini_batches = np.array_split(y_train, n//batch_size)\n",
    "        for __ in range(len(X_train_mini_batches)):\n",
    "            X_train_mini_batch = X_train_mini_batches[__]\n",
    "            y_train_mini_batch = y_train_mini_batches[__]\n",
    "            \n",
    "            hypothesis_train = hypothesis(X_train_mini_batch, w)\n",
    "            hypothesis_test = hypothesis(X_test, w)\n",
    "\n",
    "            gradient = (y_train_mini_batch.T.dot( np.sign(hypothesis_train - y_train_mini_batch)*(hypothesis_train)*(1-hypothesis_train) ) / batch_size) + 2*alpha*w \n",
    "\n",
    "            w = w - lr * gradient\n",
    "        \n",
    "            train_error.append(mse_loss(y_train_mini_batch, hypothesis_train))\n",
    "            test_error.append(mse_loss(y_test, hypothesis_test))\n",
    "    \n",
    "\n",
    "    y_pred_train = predict(X_train, w, threshold)\n",
    "    y_pred_test = predict(X_test, w, threshold)\n",
    "    return y_pred_train, y_pred_test, train_error, test_error\n",
    "\n",
    "def StochasticGradientDescent_MSE(X_train,y_train, X_test,y_test, epochs, lr, alpha, threshold=0.5, batch_size=100):        \n",
    "    train_error, test_error = [], []\n",
    "\n",
    "    n,m=X_train.shape\n",
    "\n",
    "    w = np.random.random((m,1)) \n",
    "    for _ in range(epochs):\n",
    "        X_train_mini_batches = np.array_split(X_train, n//batch_size)\n",
    "        y_train_mini_batches = np.array_split(y_train, n//batch_size)\n",
    "        for __ in range(len(X_train_mini_batches)):\n",
    "            X_train_mini_batch = X_train_mini_batches[__]\n",
    "            y_train_mini_batch = y_train_mini_batches[__]\n",
    "            \n",
    "            hypothesis_train = hypothesis(X_train_mini_batch, w)\n",
    "            hypothesis_test = hypothesis(X_test, w)\n",
    "\n",
    "            gradient = 2*(X_train_mini_batch.T.dot( (hypothesis_train - y_train_mini_batch)*(hypothesis_train)*(1-hypothesis_train) ) / batch_size) + 2*alpha*w #y_train should be n,1\n",
    "            \n",
    "            w = w - lr * gradient\n",
    "        \n",
    "            train_error.append(mse_loss(y_train_mini_batch, hypothesis_train))\n",
    "            test_error.append(mse_loss(y_test, hypothesis_test))\n",
    "    \n",
    "\n",
    "    y_pred_train = predict(X_train, w, threshold)\n",
    "    y_pred_test = predict(X_test, w, threshold)\n",
    "    return y_pred_train, y_pred_test, train_error, test_error\n",
    "\n",
    "def StochasticGradientDescent_CrossEntropy(X_train,y_train, X_test,y_test, epochs, lr, alpha, threshold=0.5, batch_size=100):        \n",
    "    train_error, test_error = [], []\n",
    "\n",
    "    n,m=X_train.shape\n",
    "\n",
    "    w = np.random.random((m,1)) \n",
    "    for _ in range(epochs):\n",
    "        X_train_mini_batches = np.array_split(X_train, n//batch_size)\n",
    "        y_train_mini_batches = np.array_split(y_train, n//batch_size)\n",
    "        for __ in range(len(X_train_mini_batches)):\n",
    "            X_train_mini_batch = X_train_mini_batches[__]\n",
    "            y_train_mini_batch = y_train_mini_batches[__]\n",
    "            \n",
    "            hypothesis_train = hypothesis(X_train_mini_batch, w)\n",
    "            hypothesis_test = hypothesis(X_test, w)\n",
    "\n",
    "            gradient = (2*((X_train_mini_batch.T).dot(hypothesis_train - y_train_mini_batch)) / batch_size) + 2*alpha*w #y_train should be n,1\n",
    "\n",
    "            w = w - lr * gradient\n",
    "        \n",
    "            train_error.append(cross_entropy_loss(y_train_mini_batch, hypothesis_train))\n",
    "            test_error.append(cross_entropy_loss(y_test, hypothesis_test))\n",
    "    \n",
    "\n",
    "    y_pred_train = predict(X_train, w, threshold)\n",
    "    y_pred_test = predict(X_test, w, threshold)\n",
    "    return y_pred_train, y_pred_test, train_error, test_error"
   ]
  },
  {
   "cell_type": "code",
   "execution_count": 19,
   "metadata": {},
   "outputs": [],
   "source": [
    "#cross validate \n",
    "def cross_validate_SGD(Cross_Validation_data, epochs, lr, alpha, loss='mse', threshold=0.5, batch_size=100):\n",
    "    train_error_CV, test_error_CV = [],[] #gradient descent curve parameters\n",
    "    train_performance_CV, test_performance_CV = [],[]\n",
    "    \n",
    "    for i,validation_data in enumerate(Cross_Validation_data):\n",
    "        print('validating on part %u'%i,end='\\r')\n",
    "        remaining_data_for_training = np.concatenate(Cross_Validation_data[0:i]+Cross_Validation_data[i+1:])\n",
    "        X_train, y_train = remaining_data_for_training[:,:-1], remaining_data_for_training[:,-1:]\n",
    "        X_test, y_test = validation_data[:,:-1], validation_data[:,-1:]\n",
    "\n",
    "        Phi_X = poly.fit_transform(X_train)\n",
    "        Phi_Xt = poly.fit_transform(X_test)\n",
    "        \n",
    "        \n",
    "        if loss=='mae':\n",
    "            y_pred_train, y_pred_test, train_error, test_error = StochasticGradientDescent_MAE(Phi_X, y_train, Phi_Xt, y_test, epochs=100, lr=lr, alpha = alpha, threshold=threshold, batch_size=batch_size)\n",
    "        elif loss=='mse':\n",
    "            y_pred_train, y_pred_test, train_error, test_error = StochasticGradientDescent_MSE(Phi_X, y_train, Phi_Xt, y_test, epochs=100, lr=lr, alpha = alpha, threshold=threshold, batch_size=batch_size)\n",
    "        elif loss=='crossentropy':\n",
    "            y_pred_train, y_pred_test, train_error, test_error = StochasticGradientDescent_CrossEntropy(Phi_X, y_train, Phi_Xt, y_test, epochs=100, lr=lr, alpha = alpha, threshold=threshold, batch_size=batch_size)\n",
    "\n",
    "        train_error_CV.append(train_error)\n",
    "        test_error_CV.append(test_error)\n",
    "        \n",
    "        train_performance = classification_performance_metrics(y_pred_train[:,-1], y_train[:,-1].astype(np.uint8))\n",
    "        test_performance = classification_performance_metrics(y_pred_test[:,-1], y_test[:,-1].astype(np.uint8))\n",
    "\n",
    "        train_performance_CV.append(train_performance)\n",
    "        test_performance_CV.append(test_performance)\n",
    "\n",
    "    train_performance={}\n",
    "    train_performance['acc']=train_performance['precision']=train_performance['TPR']=train_performance['recall']=train_performance['F1']=train_performance['FPR']=0\n",
    "    test_performance={}\n",
    "    test_performance['acc']=test_performance['precision']=test_performance['TPR']=test_performance['recall']=test_performance['F1']=test_performance['FPR']=0\n",
    "\n",
    "    n_cv = len(train_performance_CV)\n",
    "    for i in range(n_cv): #cross validation of 5\n",
    "        for key in train_performance:\n",
    "            train_performance[key]+=train_performance_CV[i][key]\n",
    "            test_performance[key]+=test_performance_CV[i][key]\n",
    "    for key in train_performance:\n",
    "        train_performance[key]/=n_cv\n",
    "        test_performance[key]/=n_cv\n",
    "\n",
    "    train_error, test_error = np.array(train_error_CV).sum(axis=0)/5, np.array(test_error_CV).sum(axis=0)/5\n",
    "\n",
    "    return train_error, test_error, train_performance, test_performance"
   ]
  },
  {
   "cell_type": "code",
   "execution_count": 20,
   "metadata": {},
   "outputs": [],
   "source": [
    "val_acc_list, val_f1_list, train_acc_list, TEST_acc_list, precision_list, recall_list, f1_list=[],[],[],[],[],[],[]"
   ]
  },
  {
   "cell_type": "code",
   "execution_count": 21,
   "metadata": {},
   "outputs": [
    {
     "name": "stdout",
     "output_type": "stream",
     "text": [
      "validation acc = 0.8285714285714285 ; validation macro F1 = 0.8278112223217434\n",
      "train acc, TEST acc, macro F1 score\n",
      "0.8510204081632653 0.8714285714285714 0.8524590163934426\n"
     ]
    }
   ],
   "source": [
    "# FINALLY, give cross validation accuracy and complete TEST accuracy\n",
    "train_error, test_error, train_perf, val_perf = cross_validate_SGD(Cross_Validation_data, epochs=200, lr=1, alpha=0,loss='mae')\n",
    "print('validation acc =',val_perf['acc'][0],\"; validation macro F1 =\",val_perf['F1'])\n",
    "\n",
    "val_acc_list.append(val_perf['acc'][0])\n",
    "val_f1_list.append(val_perf['F1'])\n",
    "\n",
    "Phi_X = poly.fit_transform(train_data[:,:-1])\n",
    "Phi_Xt = poly.fit_transform(TEST_data[:,:-1])\n",
    "\n",
    "y_pred_train, y_pred_TEST, train_error, TEST_error = StochasticGradientDescent_MSE(Phi_X, train_data[:,-1:].astype(np.uint8), Phi_Xt, TEST_data[:,-1:].astype(np.uint8), epochs=200, lr=1, alpha = 0)\n",
    "train_performance = classification_performance_metrics(y_pred_train[:,-1], train_data[:,-1].astype(np.uint8))\n",
    "TEST_performance = classification_performance_metrics(y_pred_TEST[:,-1], TEST_data[:,-1].astype(np.uint8))\n",
    "print('train acc, TEST acc, macro F1 score')\n",
    "print( train_performance['acc'][0], TEST_performance['acc'][0], TEST_performance['F1'] )\n",
    "\n",
    "train_acc_list.append(train_performance['acc'][0])\n",
    "TEST_acc_list.append(TEST_performance['acc'][0])\n",
    "precision_list.append(TEST_performance['precision'])\n",
    "recall_list.append(TEST_performance['recall'])\n",
    "f1_list.append(TEST_performance['F1'])"
   ]
  },
  {
   "cell_type": "code",
   "execution_count": 22,
   "metadata": {},
   "outputs": [
    {
     "name": "stdout",
     "output_type": "stream",
     "text": [
      "validation acc = 0.846938775510204 ; validation macro F1 = 0.8179149823453621\n",
      "train acc, TEST acc, macro F1 score\n",
      "0.8510204081632653 0.8714285714285714 0.8524590163934426\n"
     ]
    }
   ],
   "source": [
    "# Stochastic gradient descent for COMPLETENESS\n",
    "# FINALLY, give cross validation accuracy and complete TEST accuracy\n",
    "train_error, test_error, train_perf, val_perf = cross_validate_SGD(Cross_Validation_data, epochs=200, lr=1, alpha=0,loss='mse')\n",
    "print('validation acc =',val_perf['acc'][0],\"; validation macro F1 =\",val_perf['F1'])\n",
    "\n",
    "val_acc_list.append(val_perf['acc'][0])\n",
    "val_f1_list.append(val_perf['F1'])\n",
    "\n",
    "Phi_X = poly.fit_transform(train_data[:,:-1])\n",
    "Phi_Xt = poly.fit_transform(TEST_data[:,:-1])\n",
    "\n",
    "y_pred_train, y_pred_TEST, train_error, TEST_error = StochasticGradientDescent_MSE(Phi_X, train_data[:,-1:].astype(np.uint8), Phi_Xt, TEST_data[:,-1:].astype(np.uint8), epochs=200, lr=1, alpha = 0)\n",
    "train_performance = classification_performance_metrics(y_pred_train[:,-1], train_data[:,-1].astype(np.uint8))\n",
    "TEST_performance = classification_performance_metrics(y_pred_TEST[:,-1], TEST_data[:,-1].astype(np.uint8))\n",
    "print('train acc, TEST acc, macro F1 score')\n",
    "print( train_performance['acc'][0], TEST_performance['acc'][0], TEST_performance['F1'] )\n",
    "\n",
    "train_acc_list.append(train_performance['acc'][0])\n",
    "TEST_acc_list.append(TEST_performance['acc'][0])\n",
    "precision_list.append(TEST_performance['precision'])\n",
    "recall_list.append(TEST_performance['recall'])\n",
    "f1_list.append(TEST_performance['F1'])"
   ]
  },
  {
   "cell_type": "code",
   "execution_count": 23,
   "metadata": {},
   "outputs": [
    {
     "name": "stdout",
     "output_type": "stream",
     "text": [
      "validation acc = 0.846938775510204 ; validation macro F1 = 0.8164520601988345\n",
      "train acc, TEST acc, macro F1 score\n",
      "0.8510204081632653 0.8714285714285714 0.8524590163934426\n"
     ]
    }
   ],
   "source": [
    "# Stochastic gradient descent for COMPLETENESS\n",
    "# FINALLY, give cross validation accuracy and complete TEST accuracy\n",
    "train_error, test_error, train_perf, val_perf = cross_validate_SGD(Cross_Validation_data, epochs=200, lr=1, alpha=0,loss='crossentropy')\n",
    "print('validation acc =',val_perf['acc'][0],\"; validation macro F1 =\",val_perf['F1'])\n",
    "\n",
    "val_acc_list.append(val_perf['acc'][0])\n",
    "val_f1_list.append(val_perf['F1'])\n",
    "\n",
    "Phi_X = poly.fit_transform(train_data[:,:-1])\n",
    "Phi_Xt = poly.fit_transform(TEST_data[:,:-1])\n",
    "\n",
    "y_pred_train, y_pred_TEST, train_error, TEST_error = StochasticGradientDescent_MSE(Phi_X, train_data[:,-1:].astype(np.uint8), Phi_Xt, TEST_data[:,-1:].astype(np.uint8), epochs=200, lr=1, alpha = 0)\n",
    "train_performance = classification_performance_metrics(y_pred_train[:,-1], train_data[:,-1].astype(np.uint8))\n",
    "TEST_performance = classification_performance_metrics(y_pred_TEST[:,-1], TEST_data[:,-1].astype(np.uint8))\n",
    "print('train acc, TEST acc, macro F1 score')\n",
    "print( train_performance['acc'][0], TEST_performance['acc'][0], TEST_performance['F1'] )\n",
    "\n",
    "train_acc_list.append(train_performance['acc'][0])\n",
    "TEST_acc_list.append(TEST_performance['acc'][0])\n",
    "precision_list.append(TEST_performance['precision'])\n",
    "recall_list.append(TEST_performance['recall'])\n",
    "f1_list.append(TEST_performance['F1'])"
   ]
  },
  {
   "cell_type": "code",
   "execution_count": 1,
   "metadata": {},
   "outputs": [],
   "source": [
    "import numpy as np\n",
    "import pandas as pd\n",
    "# results=np.array([val_acc_list, val_f1_list, train_acc_list, TEST_acc_list, precision_list, recall_list, f1_list])\n",
    "# np.save('mae_mse_CrEnt_SGD.npy',results)\n",
    "results = np.round(np.load('mae_mse_CrEnt_SGD.npy'),4)\n",
    "# results\n",
    "df = pd.DataFrame(data=results,index=['Val Acc','Val F1','Train Acc','Test Acc','Precision','Recall','F1'],columns=['MAE','MSE','CrossEntropy'])\n",
    "df.to_csv('mae_mse_CrEnt_SGD.csv')"
   ]
  },
  {
   "cell_type": "markdown",
   "metadata": {},
   "source": [
    "## regularising overfitted model"
   ]
  },
  {
   "cell_type": "code",
   "execution_count": 48,
   "metadata": {},
   "outputs": [
    {
     "name": "stdout",
     "output_type": "stream",
     "text": [
      "validating on part 4\r"
     ]
    },
    {
     "data": {
      "image/png": "[encoded data removed]",
      "text/plain": [
       "<Figure size 1152x432 with 2 Axes>"
      ]
     },
     "metadata": {
      "needs_background": "light"
     },
     "output_type": "display_data"
    }
   ],
   "source": [
    "poly=PolynomialFeatures(4)\n",
    "alphas=list(np.array([0,0.25,0.5,0.75,1]))\n",
    "lrs=[1,.1,.1,.1,.1]\n",
    "train_ERROR, val_ERROR, train_ACC, val_ACC = [],[],[],[]\n",
    "for i,alpha in enumerate(alphas):\n",
    "    print('alpha=%f'%alpha,end='\\r')\n",
    "\n",
    "    Phi_X = poly.fit_transform(train_data[:,:-1])\n",
    "    Phi_Xt = poly.fit_transform(TEST_data[:,:-1])\n",
    "\n",
    "    train_error, test_error, train_acc, test_acc,_1,_2 = cross_validate(Cross_Validation_data, epochs=300, lr=lrs[i], alpha=alpha,loss='mse')\n",
    "    \n",
    "    train_ERROR.append(train_error[-1])\n",
    "    val_ERROR.append(test_error[-1])\n",
    "    train_ACC.append(train_acc[-1])\n",
    "    val_ACC.append(test_acc[-1])\n",
    "\n",
    "plt.figure(figsize=(16.,6.))\n",
    "plt.subplot(1,2,1)\n",
    "plt.xlabel('regularisation constant')\n",
    "plt.ylabel('mse loss')\n",
    "plt.plot(alphas, train_ERROR,label='train error',marker='.')\n",
    "plt.plot(alphas, val_ERROR,label='val error',marker='.')\n",
    "plt.legend()\n",
    "plt.subplot(1,2,2)\n",
    "plt.xlabel('regularisation constant')\n",
    "plt.ylabel('accuracy')\n",
    "plt.plot(alphas, train_ACC,label='train acc',marker='.')\n",
    "plt.plot(alphas, val_ACC,label='val acc',marker='.')\n",
    "plt.legend()\n",
    "plt.savefig('regularising_overfitted_model.png')\n",
    "plt.show()"
   ]
  },
  {
   "cell_type": "code",
   "execution_count": null,
   "metadata": {},
   "outputs": [],
   "source": []
  }
 ],
 "metadata": {
  "kernelspec": {
   "display_name": "Python 3",
   "language": "python",
   "name": "python3"
  },
  "language_info": {
   "codemirror_mode": {
    "name": "ipython",
    "version": 3
   },
   "file_extension": ".py",
   "mimetype": "text/x-python",
   "name": "python",
   "nbconvert_exporter": "python",
   "pygments_lexer": "ipython3",
   "version": "3.7.5"
  }
 },
 "nbformat": 4,
 "nbformat_minor": 2
}
