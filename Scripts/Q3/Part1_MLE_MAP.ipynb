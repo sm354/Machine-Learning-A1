{
 "cells": [
  {
   "cell_type": "markdown",
   "metadata": {},
   "source": [
    "# Multi-Class Classification on Medical MNIST\n",
    "1. Bayes classifier - GMM, Gaussian\n",
    "2. Naive Bayes\n",
    "3. MLE\n",
    "4. MAP"
   ]
  },
  {
   "cell_type": "markdown",
   "metadata": {},
   "source": [
    "## Note\n",
    "1. in multi-class, there is NO roc curve\n",
    "2. cross validate on '80' split of data and get train and val error/acc (Discard the models learnt here in every step of cross validation)\n",
    "3. finally, using the '20' split of data get the confusion matrix and test acc/error. This is obtained using the model trained on complete Train set"
   ]
  },
  {
   "cell_type": "code",
   "execution_count": 1,
   "metadata": {},
   "outputs": [],
   "source": [
    "import pandas as pd\n",
    "import numpy as np\n",
    "import random\n",
    "from mpl_toolkits.mplot3d import Axes3D\n",
    "import matplotlib.pyplot as plt\n",
    "import os\n",
    "import PIL.Image as Image\n",
    "import math\n",
    "from sklearn import decomposition"
   ]
  },
  {
   "cell_type": "markdown",
   "metadata": {},
   "source": [
    "## Classification Performance Metrics"
   ]
  },
  {
   "cell_type": "code",
   "execution_count": 2,
   "metadata": {},
   "outputs": [],
   "source": [
    "'''\n",
    "input-\n",
    "y_pred, y_true shape is (n,) (NOT in one-hot representation)\n",
    "multi-class such that ypred,ytrue has values in 0,1,2,..,label-1\n",
    "\n",
    "In confusion matrix, it is assumed that there are 6 labels.\n",
    "\n",
    "output-\n",
    "precisions, recalls, F1s numpy arrays of shape (no. of labels,)\n",
    "confusion matrix - numpy matrix (label,label)\n",
    "'''\n",
    "def classification_performance_metrics(y_pred, y_true, exp_name):\n",
    "    \n",
    "    y_pred = y_pred.astype('uint8')\n",
    "    y_true = y_true.astype('uint8')\n",
    "    \n",
    "    confusion_matrix = np.zeros((6,6)) #left side - actual, top side - predicted\n",
    "    for true_label in range(6):\n",
    "        true_indices = y_true==true_label\n",
    "        for pred_label in range(6):\n",
    "            check_pred_labels = y_pred[true_indices]\n",
    "            confusion_matrix[true_label][pred_label]= (check_pred_labels == pred_label).sum()\n",
    "    confusion_matrix/=(confusion_matrix.sum(axis=1,keepdims=True))    #normalise it - dividing by column sum\n",
    "\n",
    "    n=y_true.shape\n",
    "    \n",
    "    tp_indices = y_pred==y_true\n",
    "    tp = y_true[tp_indices]\n",
    "    \n",
    "    true_y_per_class = np.bincount(y_true)\n",
    "    labels = true_y_per_class.shape[0]\n",
    "    \n",
    "    tp_per_class = np.zeros((labels,))\n",
    "    tp_per_class[:np.bincount(tp).shape[0]] = np.bincount(tp)\n",
    "    predicted_y_per_class = np.zeros((labels,))\n",
    "    predicted_y_per_class[:np.bincount(y_pred).shape[0]] = np.bincount(y_pred)\n",
    "    \n",
    "    precisions, recalls, F1s = [], [], []\n",
    "    #precision, recall, F1 for each class\n",
    "    for i in range(tp_per_class.shape[0]):\n",
    "        TP = tp_per_class[i]\n",
    "        TN = tp_per_class.sum() - TP\n",
    "        FP = predicted_y_per_class[i] - TP\n",
    "        FN = true_y_per_class[i] - TP\n",
    "        \n",
    "        precision = TP/(TP+FP) if TP+FP!=0 else 0\n",
    "        recall = TP/(TP+FN) if TP+FN!=0 else 0\n",
    "        F1 = 2*TP/(2*TP+FP+FN) if TP+FP+FN!=0 else 0\n",
    "        FPR = FP/(FP+TN) if FP+TN!=0 else 0\n",
    "\n",
    "        precisions.append(precision)\n",
    "        recalls.append(recall)\n",
    "        F1s.append(F1)\n",
    "        \n",
    "    if exp_name!=None:\n",
    "        #save csv files\n",
    "        categories=[\"AbdomenCT\",\"BreastMRI\",\"ChestCT\",\"CXR\",\"Hand\",\"HeadCT\"]\n",
    "        dikt = {}\n",
    "        dikt['Precision']=np.round(precisions,3)\n",
    "        dikt['Recall']=np.round(recalls,3)\n",
    "        dikt['F1']=np.round(F1s,3)\n",
    "\n",
    "        df = pd.DataFrame(data=dikt,index=categories)\n",
    "        df.to_csv('%s_perClass.csv'%exp_name)\n",
    "        df = pd.DataFrame(data=np.round(confusion_matrix,3),index=categories,columns=categories)\n",
    "        df.to_csv('%s_ConfMat.csv'%exp_name)\n",
    "    \n",
    "    \n",
    "    precisions=np.array(precisions)\n",
    "    recalls=np.array(recalls)\n",
    "    F1s=np.array(F1s)\n",
    "    macro_F1=F1s.mean()\n",
    "    \n",
    "    return precisions, recalls, F1s, macro_F1, confusion_matrix\n",
    "\n",
    "def accuracy(y_pred, y_true):\n",
    "    return (y_pred==y_true).sum()/y_true.shape[0]"
   ]
  },
  {
   "cell_type": "markdown",
   "metadata": {},
   "source": [
    "### Data Preprocessing"
   ]
  },
  {
   "cell_type": "code",
   "execution_count": 3,
   "metadata": {},
   "outputs": [],
   "source": [
    "category = {}\n",
    "category[0] = \"AbdomenCT\"\n",
    "category[1] = \"BreastMRI\"\n",
    "category[2] = \"ChestCT\"\n",
    "category[3] = \"CXR\"\n",
    "category[4] = \"Hand\"\n",
    "category[5] = \"HeadCT\"\n",
    "path = './Medical_MNIST/'"
   ]
  },
  {
   "cell_type": "code",
   "execution_count": null,
   "metadata": {},
   "outputs": [],
   "source": [
    "# train_data, test_data = [], []\n",
    "# for i in range(6):\n",
    "#     data = []\n",
    "#     print(category[i])\n",
    "#     imagepath = path + category[i] \n",
    "#     for images in os.listdir(imagepath):\n",
    "#         image = np.array(Image.open(os.path.join(imagepath, images)))\n",
    "#         image = np.append(image,i)\n",
    "#         data.append(image.astype('uint8'))\n",
    "#     train_data+=data[0:int(0.8*len(data))]\n",
    "#     test_data+=data[int(0.8*len(data)):]\n",
    "# train_data=np.array(train_data)\n",
    "# test_data=np.array(test_data)\n",
    "# print(train_data.shape, test_data.shape)"
   ]
  },
  {
   "cell_type": "code",
   "execution_count": 5,
   "metadata": {},
   "outputs": [
    {
     "name": "stdout",
     "output_type": "stream",
     "text": [
      "(47163, 4097) float64\n",
      "(11791, 4097) float64\n"
     ]
    }
   ],
   "source": [
    "# np.save('train.npy',train)\n",
    "# np.save('test.npy',test)\n",
    "train_data=np.load('train.npy').astype(np.float64) #loading as float because i have to normalise later\n",
    "np.random.shuffle(train_data)\n",
    "TEST_data=np.load('test.npy').astype(np.float64)\n",
    "print(train_data.shape, train_data.dtype)\n",
    "print(TEST_data.shape, TEST_data.dtype)"
   ]
  },
  {
   "cell_type": "markdown",
   "metadata": {},
   "source": [
    "breast MRI data size is not 10000"
   ]
  },
  {
   "cell_type": "code",
   "execution_count": 6,
   "metadata": {},
   "outputs": [
    {
     "data": {
      "text/plain": [
       "PCA(copy=True, iterated_power='auto', n_components=2, random_state=None,\n",
       "    svd_solver='auto', tol=0.0, whiten=False)"
      ]
     },
     "execution_count": 6,
     "metadata": {},
     "output_type": "execute_result"
    }
   ],
   "source": [
    "pca=decomposition.PCA(n_components=2)\n",
    "pca.fit(train_data[:,:-1])"
   ]
  },
  {
   "cell_type": "code",
   "execution_count": 7,
   "metadata": {},
   "outputs": [
    {
     "name": "stdout",
     "output_type": "stream",
     "text": [
      "(47163, 3) (11791, 3)\n"
     ]
    }
   ],
   "source": [
    "transformed_train_data_X = pca.transform(train_data[:,:-1])\n",
    "transformed_TEST_data_X = pca.transform(TEST_data[:,:-1])\n",
    "\n",
    "train_data = np.hstack((transformed_train_data_X,train_data[:,-1:]))\n",
    "TEST_data = np.hstack((transformed_TEST_data_X, TEST_data[:,-1:]))\n",
    "print(train_data.shape, TEST_data.shape)"
   ]
  },
  {
   "cell_type": "code",
   "execution_count": 8,
   "metadata": {},
   "outputs": [],
   "source": [
    "#computing mean and stddev from whole train set (0.80*total data)\n",
    "mean = train_data[:,:-1].mean(axis=0,keepdims=True)\n",
    "stddev = train_data[:,:-1].std(axis=0,keepdims=True)"
   ]
  },
  {
   "cell_type": "code",
   "execution_count": 9,
   "metadata": {},
   "outputs": [],
   "source": [
    "train_data[:,:-1]-=mean\n",
    "TEST_data[:,:-1]-=mean\n",
    "train_data[:,:-1]/=stddev\n",
    "TEST_data[:,:-1]/=stddev"
   ]
  },
  {
   "cell_type": "code",
   "execution_count": 32,
   "metadata": {},
   "outputs": [
    {
     "data": {
      "image/png": "[encoded data removed]",
      "text/plain": [
       "<Figure size 432x288 with 1 Axes>"
      ]
     },
     "metadata": {
      "needs_background": "light"
     },
     "output_type": "display_data"
    }
   ],
   "source": [
    "plt.title('Training dataset')\n",
    "plt.scatter(train_data[:,0],train_data[:,1],c=train_data[:,-1])\n",
    "plt.savefig('TrainingDataset.png')\n",
    "plt.show()"
   ]
  },
  {
   "cell_type": "code",
   "execution_count": 10,
   "metadata": {},
   "outputs": [
    {
     "name": "stdout",
     "output_type": "stream",
     "text": [
      "5\n",
      "(11791, 2) (11791, 1)\n"
     ]
    }
   ],
   "source": [
    "Cross_Validation_data=np.array_split(train_data,5)\n",
    "print(len(Cross_Validation_data))\n",
    "\n",
    "X_TEST,y_TEST = TEST_data[:,:-1],TEST_data[:,-1:]\n",
    "print(X_TEST.shape, y_TEST.shape)"
   ]
  },
  {
   "cell_type": "code",
   "execution_count": 11,
   "metadata": {},
   "outputs": [
    {
     "name": "stdout",
     "output_type": "stream",
     "text": [
      "(47163, 3) (9433, 3)\n",
      "train size = 37730\n",
      "val size = 9433\n",
      "test size = 11791\n"
     ]
    }
   ],
   "source": [
    "print(train_data.shape, Cross_Validation_data[0].shape)\n",
    "print('train size = {}'.format(train_data.shape[0]-Cross_Validation_data[0].shape[0]))\n",
    "print('val size = {}'.format(Cross_Validation_data[0].shape[0]))\n",
    "print('test size = {}'.format(TEST_data.shape[0]))"
   ]
  },
  {
   "cell_type": "markdown",
   "metadata": {},
   "source": [
    "# Bayes Classifier using Parametric Estimation of Class conditional densities"
   ]
  },
  {
   "cell_type": "markdown",
   "metadata": {},
   "source": [
    "# 1. Multivariate Gaussian"
   ]
  },
  {
   "cell_type": "code",
   "execution_count": 11,
   "metadata": {},
   "outputs": [],
   "source": [
    "# def multi_variate_gaussian(x, mu, sigma): #taken log because of curse of dimensionality\n",
    "#     # x,mu shape (d,) \n",
    "#     y = -((x-mu).T.dot(np.linalg.pinv(sigma))).dot(x-mu)/2\n",
    "#     y = y - np.log(np.linalg.det(sigma))/2\n",
    "#     return y\n",
    "\n",
    "def multi_variate_gaussian(x, mu, sigma):\n",
    "    y = ((x-mu).T.dot(np.linalg.inv(sigma))).dot(x-mu)\n",
    "    y = -y/2\n",
    "    y = np.exp(y)\n",
    "    constant = pow(2*3.14,x.shape[0])\n",
    "    constant = constant*np.linalg.det(sigma)\n",
    "    constant = pow(constant, 1/2)\n",
    "    y = y/constant\n",
    "    return y\n",
    "\n",
    "def bayes_classifier(X, priors, MLE):\n",
    "    #posteriors (not normalised)\n",
    "    y_pred = np.zeros((X.shape[0],),dtype=np.uint8)\n",
    "    for i in range(X.shape[0]):\n",
    "        x=X[i]\n",
    "        posteriors=[]\n",
    "        for j in range(6):\n",
    "             posteriors.append(priors[j]*multi_variate_gaussian(x, MLE['mu_%u'%j], MLE['sigma_%u'%j]))\n",
    "        y_pred[i]=posteriors.index(max(posteriors))\n",
    "    return y_pred\n",
    "\n",
    "def bayes_classifier_MVG(train, test): #train,test = X|Y\n",
    "    #separate into classes in train set to find MLE for class conditional densities\n",
    "    train_classes=[]\n",
    "    priors=[]\n",
    "    for i in range(6):\n",
    "        train_class_i=train[train[:,-1]==i]\n",
    "        train_classes.append(train_class_i)    \n",
    "        priors.append(train_class_i.shape[0]/train.shape[0])\n",
    "    \n",
    "    #compute MLE for mu and sigma\n",
    "    MLE={}\n",
    "    for i in range(6):\n",
    "        X=train_classes[i][:,:-1]\n",
    "        MLE['mu_{}'.format(i)]=X.mean(axis=0)\n",
    "        MLE['sigma_{}'.format(i)]=np.cov(X.T)\n",
    "        \n",
    "    #use bayes classifier\n",
    "    y_pred_train = bayes_classifier(train[:,:-1], priors, MLE)\n",
    "    y_train = train[:,-1]\n",
    "    y_pred_test = bayes_classifier(test[:,:-1], priors, MLE)\n",
    "    y_test = test[:,-1]\n",
    "    return y_pred_train,y_pred_test"
   ]
  },
  {
   "cell_type": "code",
   "execution_count": 21,
   "metadata": {
    "scrolled": false
   },
   "outputs": [
    {
     "name": "stdout",
     "output_type": "stream",
     "text": [
      "validating on part 0\n",
      "validating on part 1\n",
      "validating on part 2\n",
      "validating on part 3\n",
      "validating on part 4\n"
     ]
    }
   ],
   "source": [
    "#cross validate to get per-class precision, recall, F1, macro F1, accuracy\n",
    "precisions_CV, recalls_CV, F1s_CV, macro_F1_CV, train_acc_CV, test_acc_CV = [],[],[],[],[],[]\n",
    "\n",
    "for i,validation_data in enumerate(Cross_Validation_data):\n",
    "    print('validating on part %u'%i)\n",
    "    remaining_data_for_training = np.concatenate(Cross_Validation_data[0:i]+Cross_Validation_data[i+1:])\n",
    "    train = remaining_data_for_training\n",
    "    test = validation_data\n",
    "    y_pred_train, y_pred_test = bayes_classifier_MVG(train, test)\n",
    "\n",
    "    train_acc_CV.append(accuracy(y_pred_train, train[:,-1]))\n",
    "    test_acc_CV.append(accuracy(y_pred_test, test[:,-1]))\n",
    "    \n",
    "    tupple = classification_performance_metrics(y_pred_test, test[:,-1],None)\n",
    "    precisions_CV.append(tupple[0])\n",
    "    recalls_CV.append(tupple[1])\n",
    "    F1s_CV.append(tupple[2])\n",
    "    macro_F1_CV.append(tupple[3]) #tupple[4] is confusion matrix\n",
    "    \n",
    "precisions, recalls, F1s, macro_F1, train_acc, test_acc = sum(precisions_CV)/5, sum(recalls_CV)/5, sum(F1s_CV)/5, sum(macro_F1_CV)/5, sum(train_acc_CV)/5, sum(test_acc_CV)/5"
   ]
  },
  {
   "cell_type": "code",
   "execution_count": 22,
   "metadata": {},
   "outputs": [
    {
     "name": "stdout",
     "output_type": "stream",
     "text": [
      "validation acc = 0.9709094572345276 ; validation macro F1 = 0.9706867963556303\n"
     ]
    }
   ],
   "source": [
    "print('validation acc =',test_acc,\"; validation macro F1 =\",macro_F1)"
   ]
  },
  {
   "cell_type": "code",
   "execution_count": 23,
   "metadata": {},
   "outputs": [
    {
     "name": "stdout",
     "output_type": "stream",
     "text": [
      "train acc, TEST acc, macro F1 score\n",
      "0.9711638360579268 0.9694682384869816 0.969287564228226\n"
     ]
    }
   ],
   "source": [
    "#now finally, train on complete TRAIN set and evaluate TEST\n",
    "y_pred_train, y_pred_test = bayes_classifier_MVG(train_data, TEST_data)\n",
    "test_metrics=classification_performance_metrics(y_pred_test, TEST_data[:,-1],'bayes_gaussian')\n",
    "print('train acc, TEST acc, macro F1 score')\n",
    "print( accuracy(y_pred_train, train_data[:,-1]), accuracy(y_pred_test, TEST_data[:,-1]), test_metrics[-2] )"
   ]
  },
  {
   "cell_type": "markdown",
   "metadata": {},
   "source": [
    "# 2. Multivariate Gaussian with statistical independence btw features - Naive Bayes"
   ]
  },
  {
   "cell_type": "code",
   "execution_count": 24,
   "metadata": {},
   "outputs": [],
   "source": [
    "def uni_variate_gaussian(x, mu, sigma):\n",
    "    y = -(x-mu)**2\n",
    "    y = y/((sigma)**2)\n",
    "    y = y/2\n",
    "    y = np.exp(y)\n",
    "    constant = pow(2*3.14,1/2)\n",
    "    constant = constant*sigma\n",
    "    y = y/constant\n",
    "    return y\n",
    "\n",
    "def bayes_classifier(X, priors, MLE):\n",
    "    #posteriors (not normalised)\n",
    "    y_pred = np.zeros((X.shape[0],),dtype=np.uint8)\n",
    "    for i in range(X.shape[0]):\n",
    "        x=X[i]\n",
    "        posteriors=[]\n",
    "        for j in range(6):\n",
    "            Q_j = priors[j]\n",
    "            for k in range(x.shape[0]):\n",
    "                Q_j *= uni_variate_gaussian(x[k], MLE['mu_%u_%u'%(j,k)], MLE['sigma_%u_%u'%(j,k)])\n",
    "            posteriors.append(Q_j)\n",
    "        y_pred[i]=posteriors.index(max(posteriors))\n",
    "    return y_pred\n",
    "\n",
    "def bayes_classifier_MuVG(train, test): #train,test = X|Y\n",
    "    #separate into classes in train set to find MLE for class conditional densities\n",
    "    train_classes=[]\n",
    "    priors=[]\n",
    "    for i in range(6): #classes\n",
    "        train_class_i=train[train[:,-1]==i]\n",
    "        train_classes.append(train_class_i)    \n",
    "        priors.append(train_class_i.shape[0]/train.shape[0])\n",
    "    \n",
    "    #compute MLE for mu and sigma\n",
    "    MLE={}\n",
    "    for i in range(6):\n",
    "        X=train_classes[i][:,:-1]\n",
    "        for j in range(X.shape[1]):\n",
    "            MLE['mu_%u_%u'%(i,j)]=X[:,j].mean(axis=0)\n",
    "            MLE['sigma_%u_%u'%(i,j)]=X[:,j].std(axis=0)\n",
    "\n",
    "    #use bayes classifier\n",
    "    y_pred_train = bayes_classifier(train[:,:-1], priors, MLE)\n",
    "    y_train = train[:,-1]\n",
    "    y_pred_test = bayes_classifier(test[:,:-1], priors, MLE)\n",
    "    y_test = test[:,-1]\n",
    "    \n",
    "    return y_pred_train,y_pred_test"
   ]
  },
  {
   "cell_type": "code",
   "execution_count": 26,
   "metadata": {},
   "outputs": [
    {
     "name": "stdout",
     "output_type": "stream",
     "text": [
      "validating on part 0\n",
      "validating on part 1\n",
      "validating on part 2\n",
      "validating on part 3\n",
      "validating on part 4\n"
     ]
    }
   ],
   "source": [
    "#cross validate to get per-class precision, recall, F1, macro F1, accuracy\n",
    "precisions_CV, recalls_CV, F1s_CV, macro_F1_CV, train_acc_CV, test_acc_CV = [],[],[],[],[],[]\n",
    "\n",
    "for i,validation_data in enumerate(Cross_Validation_data):\n",
    "    print('validating on part %u'%i)\n",
    "    remaining_data_for_training = np.concatenate(Cross_Validation_data[0:i]+Cross_Validation_data[i+1:])\n",
    "    train = remaining_data_for_training\n",
    "    test = validation_data\n",
    "    y_pred_train, y_pred_test = bayes_classifier_MuVG(train, test)\n",
    "\n",
    "    train_acc_CV.append(accuracy(y_pred_train, train[:,-1]))\n",
    "    test_acc_CV.append(accuracy(y_pred_test, test[:,-1]))\n",
    "    \n",
    "    tupple = classification_performance_metrics(y_pred_test, test[:,-1],None)\n",
    "    precisions_CV.append(tupple[0])\n",
    "    recalls_CV.append(tupple[1])\n",
    "    F1s_CV.append(tupple[2])\n",
    "    macro_F1_CV.append(tupple[3]) #tupple[4] is confusion matrix\n",
    "\n",
    "precisions, recalls, F1s, macro_F1, train_acc, test_acc = sum(precisions_CV)/5, sum(recalls_CV)/5, sum(F1s_CV)/5, sum(macro_F1_CV)/5, sum(train_acc_CV)/5, sum(test_acc_CV)/5"
   ]
  },
  {
   "cell_type": "code",
   "execution_count": 27,
   "metadata": {},
   "outputs": [
    {
     "name": "stdout",
     "output_type": "stream",
     "text": [
      "validation acc = 0.9642940520560745 ; validation macro F1 = 0.9640895266901234\n"
     ]
    }
   ],
   "source": [
    "print('validation acc =',test_acc,\"; validation macro F1 =\",macro_F1)"
   ]
  },
  {
   "cell_type": "code",
   "execution_count": 28,
   "metadata": {},
   "outputs": [
    {
     "name": "stdout",
     "output_type": "stream",
     "text": [
      "train acc, TEST acc, macro F1 score\n",
      "0.9643364501834065 0.9638707488762616 0.9636694647611704\n"
     ]
    }
   ],
   "source": [
    "#now finally, train on complete TRAIN set and evaluate TEST\n",
    "y_pred_train, y_pred_test = bayes_classifier_MuVG(train_data, TEST_data)\n",
    "test_metrics=classification_performance_metrics(y_pred_test, TEST_data[:,-1],'NaiveBayes')\n",
    "print('train acc, TEST acc, macro F1 score')\n",
    "print( accuracy(y_pred_train, train_data[:,-1]), accuracy(y_pred_test, TEST_data[:,-1]), test_metrics[-2] )"
   ]
  },
  {
   "cell_type": "markdown",
   "metadata": {},
   "source": [
    "# 3. Gaussian mixture model - class conditional density"
   ]
  },
  {
   "cell_type": "code",
   "execution_count": 12,
   "metadata": {},
   "outputs": [],
   "source": [
    "import random as rd\n",
    "import pandas as pd\n",
    "import numpy as np\n",
    "import matplotlib.pyplot as plt\n",
    "\n",
    "def random_parameters(data, K):\n",
    "    \"\"\" init the means, covariances and mixing coefs\"\"\"\n",
    "    cols = (data.shape)[1]\n",
    " \n",
    "    mu = np.zeros((K, cols))\n",
    "    for k in range(K):\n",
    "        idx = int(np.floor(rd.random()*len(data)))\n",
    "        for col in range(cols):\n",
    "            mu[k][col] += data[idx][col]\n",
    " \n",
    "    sigma = []\n",
    "    for k in range(K):\n",
    "        sigma.append(np.cov(data.T))\n",
    " \n",
    "    pi = np.ones(K)*1.0/K\n",
    " \n",
    "    return mu, sigma, pi\n",
    "\n",
    "def e_step(data, K, mu, sigma, pi):\n",
    "    idvs = (data.shape)[0]\n",
    "    cols = (data.shape)[1]\n",
    " \n",
    "    resp = np.zeros((idvs, K))\n",
    " \n",
    "    for i in range(idvs):\n",
    "        for k in range(K):\n",
    "            resp[i][k] = pi[k]*gaussian(data[i], mu[k], sigma[k])/likelihood(data[i], K, mu, sigma, pi)\n",
    "\n",
    "    return resp\n",
    "\n",
    "def log_likelihood(data, K, mu, sigma, pi):\n",
    "    \"\"\" marginal over X \"\"\"\n",
    "    log_likelihood = 0.0\n",
    "    for n in range (len(data)):\n",
    "        log_likelihood += np.log(likelihood(data[n], K, mu, sigma, pi))\n",
    "    return log_likelihood \n",
    "\n",
    " \n",
    "def likelihood(x, K, mu, sigma, pi):\n",
    "    rs = 0.0\n",
    "    for k in range(K):\n",
    "        rs += pi[k]*gaussian(x, mu[k], sigma[k])\n",
    "    return rs\n",
    "\n",
    "\n",
    "def m_step(data, K, resp):\n",
    "    \"\"\" find the parameters that maximize the log-likelihood given the current resp.\"\"\"\n",
    "    idvs = (data.shape)[0]\n",
    "    cols = (data.shape)[1]\n",
    "    \n",
    "    mu = np.zeros((K, cols))\n",
    "    sigma = np.zeros((K, cols, cols))\n",
    "    pi = np.zeros(K)\n",
    "\n",
    "    marg_resp = np.zeros(K)\n",
    "    for k in range(K):\n",
    "        for i in range(idvs):\n",
    "            marg_resp[k] += resp[i][k]\n",
    "            mu[k] += (resp[i][k])*data[i]\n",
    "        mu[k] /= marg_resp[k]\n",
    "\n",
    "        for i in range(idvs):\n",
    "            #x_i = (np.zeros((1,cols))+data[k])\n",
    "            x_mu = np.zeros((1,cols))+data[i]-mu[k]\n",
    "            sigma[k] += (resp[i][k]/marg_resp[k])*x_mu*x_mu.T\n",
    "\n",
    "        pi[k] = marg_resp[k]/idvs        \n",
    "        \n",
    "    return mu, sigma, pi\n",
    "\n",
    "\n",
    "def gaussian(x, mu, sigma):\n",
    "    \"\"\" compute the pdf of the multi-var gaussian \"\"\"\n",
    "    idvs = len(x)\n",
    "    norm_factor = (2*np.pi)**idvs\n",
    "\n",
    "    norm_factor *= np.linalg.det(sigma)\n",
    "    norm_factor = 1.0/np.sqrt(norm_factor)\n",
    "\n",
    "    x_mu = np.matrix(x-mu)\n",
    "\n",
    "    rs = norm_factor*np.exp(-0.5*x_mu*np.linalg.inv(sigma)*x_mu.T)\n",
    "    return rs\n",
    "\n",
    "\n",
    "def EM(data, K, threshold):\n",
    "    converged = False\n",
    "    mu, sigma, pi = random_parameters(data, K)\n",
    "    \n",
    "    l=[]\n",
    "    current_log_likelihood = log_likelihood(data, K, mu, sigma, pi)\n",
    "    max_iter = 30\n",
    "    for it in range(max_iter):\n",
    "        resp = e_step(data, K, mu, sigma, pi)\n",
    "        mu, sigma, pi = m_step(data, K, resp)\n",
    "        l.append(current_log_likelihood[0,0])\n",
    "        new_log_likelihood = log_likelihood(data, K, mu, sigma, pi)\n",
    "#         if (abs(new_log_likelihood-current_log_likelihood) < threshold):\n",
    "#             converged = True\n",
    "#             break\n",
    "\n",
    "        current_log_likelihood = new_log_likelihood\n",
    "    \n",
    "    l.append(current_log_likelihood[0,0])\n",
    "    \n",
    "    return l, mu, sigma"
   ]
  },
  {
   "cell_type": "code",
   "execution_count": 13,
   "metadata": {},
   "outputs": [],
   "source": [
    "def bayes_classifier_GMM(train, test, n_components): #train,test = X|Y\n",
    "    train_classes=[]\n",
    "    priors=[]\n",
    "    for i in range(6):\n",
    "        train_class_i=train[train[:,-1]==i]\n",
    "        train_classes.append(train_class_i)    \n",
    "        priors.append(train_class_i.shape[0]/train.shape[0])\n",
    "    \n",
    "    #fit GMM using MLE for train set\n",
    "    GMM_parameters={}\n",
    "    for i in range(6):\n",
    "        X=train_classes[i][:,:-1]\n",
    "        GMM_parameters['mu_%u'%i], GMM_parameters['sigma_%u'%i], GMM_parameters['log_likelihood_%u'%i] = EM(X,n_components,0.001)\n",
    "\n",
    "    #use bayes classifier\n",
    "    y_pred_train = bayes_classifier(train[:,:-1], priors, GMM_parameters, n_components=n_components)\n",
    "    y_train = train[:,-1]\n",
    "    y_pred_test = bayes_classifier(test[:,:-1], priors, GMM_parameters, n_components=n_components)\n",
    "    y_test = test[:,-1]\n",
    "    \n",
    "    return y_pred_train,y_pred_test\n",
    "    \n",
    "def bayes_classifier(X, priors, GMM_parameters, n_components):\n",
    "    #posteriors (not normalised)\n",
    "    Q=[]\n",
    "    for j in range(6): #classes\n",
    "        f_j = predict(X, GMM_parameters['mu_%u'%j], GMM_parameters['sigma_%u'%j], n_components)\n",
    "        Q_j = [priors[j]*f[0,0] for f in f_j]\n",
    "        Q.append(Q_j)\n",
    "    Q=np.array(Q) #shape = 6,n\n",
    "    y_pred=Q.argmax(axis=0)\n",
    "    \n",
    "    return y_pred\n",
    "\n",
    "def predict(X, mu, sigma, n_components):\n",
    "    probabs = []\n",
    "    for n in range(len(X)):\n",
    "        probabs.append([gaussian(X[n], mu[k], sigma[k]) for k in range(n_components)])\n",
    "    final_probs = []\n",
    "    for probab in probabs:\n",
    "        final_probs.append(max(probab))\n",
    "    return final_probs"
   ]
  },
  {
   "cell_type": "code",
   "execution_count": 14,
   "metadata": {},
   "outputs": [],
   "source": [
    "#cross validate to get per-class precision, recall, F1, macro F1, accuracy\n",
    "precisions_CV, recalls_CV, F1s_CV, macro_F1_CV, train_acc_CV, test_acc_CV = [],[],[],[],[],[]\n",
    "for i,validation_data in enumerate(Cross_Validation_data):\n",
    "    print('validating on part %u'%i)\n",
    "    remaining_data_for_training = np.concatenate(Cross_Validation_data[0:i]+Cross_Validation_data[i+1:])\n",
    "    train = remaining_data_for_training\n",
    "    test = validation_data\n",
    "    y_pred_train, y_pred_test = bayes_classifier_GMM(train, test, n_components=2)\n",
    "\n",
    "    train_acc_CV.append(accuracy(y_pred_train, train[:,-1]))\n",
    "    test_acc_CV.append(accuracy(y_pred_test, test[:,-1]))\n",
    "    \n",
    "    tupple = classification_performance_metrics(y_pred_test, test[:,-1])\n",
    "    precisions_CV.append(tupple[0])\n",
    "    recalls_CV.append(tupple[1])\n",
    "    F1s_CV.append(tupple[2])\n",
    "    macro_F1_CV.append(tupple[3]) #tupple[4] is confusion matrix\n",
    "\n",
    "n_cv = len(precisions_CV)\n",
    "precisions, recalls, F1s, macro_F1, train_acc, test_acc = sum(precisions_CV)/n_cv, sum(recalls_CV)/n_cv, sum(F1s_CV)/n_cv, sum(macro_F1_CV)/n_cv, sum(train_acc_CV)/n_cv, sum(test_acc_CV)/n_cv"
   ]
  },
  {
   "cell_type": "code",
   "execution_count": null,
   "metadata": {},
   "outputs": [],
   "source": [
    "print('validation acc =',test_acc,\"; validation macro F1 =\",macro_F1)"
   ]
  },
  {
   "cell_type": "code",
   "execution_count": null,
   "metadata": {},
   "outputs": [],
   "source": [
    "#now finally, train on complete TRAIN set and evaluate TEST\n",
    "y_pred_train, y_pred_test = bayes_classifier_GMM(train_data, TEST_data, n_components=2)\n",
    "test_metrics=classification_performance_metrics(y_pred_test, TEST_data[:,-1],'Bayes_GMM')\n",
    "print('train acc, TEST acc, macro F1 score')\n",
    "print( accuracy(y_pred_train, train_data[:,-1]), accuracy(y_pred_test, TEST_data[:,-1]), test_metrics[-2] )"
   ]
  },
  {
   "cell_type": "code",
   "execution_count": null,
   "metadata": {},
   "outputs": [],
   "source": []
  }
 ],
 "metadata": {
  "kernelspec": {
   "display_name": "Python 3",
   "language": "python",
   "name": "python3"
  },
  "language_info": {
   "codemirror_mode": {
    "name": "ipython",
    "version": 3
   },
   "file_extension": ".py",
   "mimetype": "text/x-python",
   "name": "python",
   "nbconvert_exporter": "python",
   "pygments_lexer": "ipython3",
   "version": "3.7.5"
  }
 },
 "nbformat": 4,
 "nbformat_minor": 2
}
