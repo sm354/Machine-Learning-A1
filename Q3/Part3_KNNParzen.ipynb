{
 "cells": [
  {
   "cell_type": "markdown",
   "metadata": {},
   "source": [
    "# Multi-Class Classification on Medical MNIST\n",
    "### Note\n",
    "1. in multi-class, there is NO roc curve\n",
    "2. cross validate on '80' split of data and get train and val error/acc (Discard the models learnt here in every step of cross validation)\n",
    "3. finally, using the '20' split of data get the confusion matrix and test acc/error. This is obtained using the model trained on complete Train set"
   ]
  },
  {
   "cell_type": "code",
   "execution_count": 1,
   "metadata": {},
   "outputs": [],
   "source": [
    "import pandas as pd\n",
    "import numpy as np\n",
    "import random\n",
    "from mpl_toolkits.mplot3d import Axes3D\n",
    "import matplotlib.pyplot as plt\n",
    "import os\n",
    "import PIL.Image as Image\n",
    "import math\n",
    "from sklearn import decomposition"
   ]
  },
  {
   "cell_type": "markdown",
   "metadata": {},
   "source": [
    "## Classification Performance Metrics"
   ]
  },
  {
   "cell_type": "code",
   "execution_count": 2,
   "metadata": {},
   "outputs": [],
   "source": [
    "'''\n",
    "input-\n",
    "y_pred, y_true shape is (n,) (NOT in one-hot representation)\n",
    "multi-class such that ypred,ytrue has values in 0,1,2,..,label-1\n",
    "\n",
    "In confusion matrix, it is assumed that there are 6 labels.\n",
    "\n",
    "output-\n",
    "precisions, recalls, F1s numpy arrays of shape (no. of labels,)\n",
    "confusion matrix - numpy matrix (label,label)\n",
    "'''\n",
    "def classification_performance_metrics(y_pred, y_true, exp_name):\n",
    "    \n",
    "    y_pred = y_pred.astype('uint8')\n",
    "    y_true = y_true.astype('uint8')\n",
    "    \n",
    "    confusion_matrix = np.zeros((6,6)) #left side - actual, top side - predicted\n",
    "    for true_label in range(6):\n",
    "        true_indices = y_true==true_label\n",
    "        for pred_label in range(6):\n",
    "            check_pred_labels = y_pred[true_indices]\n",
    "            confusion_matrix[true_label][pred_label]= (check_pred_labels == pred_label).sum()\n",
    "    confusion_matrix/=(confusion_matrix.sum(axis=1,keepdims=True))    #normalise it - dividing by column sum\n",
    "\n",
    "    n=y_true.shape\n",
    "    \n",
    "    tp_indices = y_pred==y_true\n",
    "    tp = y_true[tp_indices]\n",
    "    \n",
    "    true_y_per_class = np.bincount(y_true)\n",
    "    labels = true_y_per_class.shape[0]\n",
    "    \n",
    "    tp_per_class = np.zeros((labels,))\n",
    "    tp_per_class[:np.bincount(tp).shape[0]] = np.bincount(tp)\n",
    "    predicted_y_per_class = np.zeros((labels,))\n",
    "    predicted_y_per_class[:np.bincount(y_pred).shape[0]] = np.bincount(y_pred)\n",
    "    \n",
    "    precisions, recalls, F1s = [], [], []\n",
    "    #precision, recall, F1 for each class\n",
    "    for i in range(tp_per_class.shape[0]):\n",
    "        TP = tp_per_class[i]\n",
    "        TN = tp_per_class.sum() - TP\n",
    "        FP = predicted_y_per_class[i] - TP\n",
    "        FN = true_y_per_class[i] - TP\n",
    "        \n",
    "        precision = TP/(TP+FP) if TP+FP!=0 else 0\n",
    "        recall = TP/(TP+FN) if TP+FN!=0 else 0\n",
    "        F1 = 2*TP/(2*TP+FP+FN) if TP+FP+FN!=0 else 0\n",
    "        FPR = FP/(FP+TN) if FP+TN!=0 else 0\n",
    "\n",
    "        precisions.append(precision)\n",
    "        recalls.append(recall)\n",
    "        F1s.append(F1)\n",
    "        \n",
    "    if exp_name!=None:\n",
    "        #save csv files\n",
    "        categories=[\"AbdomenCT\",\"BreastMRI\",\"ChestCT\",\"CXR\",\"Hand\",\"HeadCT\"]\n",
    "        dikt = {}\n",
    "        dikt['Precision']=np.round(precisions,3)\n",
    "        dikt['Recall']=np.round(recalls,3)\n",
    "        dikt['F1']=np.round(F1s,3)\n",
    "\n",
    "        df = pd.DataFrame(data=dikt,index=categories)\n",
    "        df.to_csv('%s_perClass.csv'%exp_name)\n",
    "        df = pd.DataFrame(data=np.round(confusion_matrix,3),index=categories,columns=categories)\n",
    "        df.to_csv('%s_ConfMat.csv'%exp_name)\n",
    "    \n",
    "    \n",
    "    precisions=np.array(precisions)\n",
    "    recalls=np.array(recalls)\n",
    "    F1s=np.array(F1s)\n",
    "    macro_F1=F1s.mean()\n",
    "    \n",
    "    return precisions, recalls, F1s, macro_F1, confusion_matrix\n",
    "\n",
    "def accuracy(y_pred, y_true):\n",
    "    return (y_pred==y_true).sum()/y_true.shape[0]"
   ]
  },
  {
   "cell_type": "markdown",
   "metadata": {},
   "source": [
    "### Data Preprocessing"
   ]
  },
  {
   "cell_type": "code",
   "execution_count": 3,
   "metadata": {},
   "outputs": [],
   "source": [
    "category = {}\n",
    "category[0] = \"AbdomenCT\"\n",
    "category[1] = \"BreastMRI\"\n",
    "category[2] = \"ChestCT\"\n",
    "category[3] = \"CXR\"\n",
    "category[4] = \"Hand\"\n",
    "category[5] = \"HeadCT\"\n",
    "path = './Medical_MNIST/'"
   ]
  },
  {
   "cell_type": "code",
   "execution_count": 4,
   "metadata": {},
   "outputs": [
    {
     "name": "stdout",
     "output_type": "stream",
     "text": [
      "(47163, 4097) float64\n",
      "(11791, 4097) float64\n"
     ]
    }
   ],
   "source": [
    "train_data=np.load('train.npy').astype(np.float64) #loading as float because i have to normalise later\n",
    "np.random.shuffle(train_data)\n",
    "TEST_data=np.load('test.npy').astype(np.float64)\n",
    "print(train_data.shape, train_data.dtype)\n",
    "print(TEST_data.shape, TEST_data.dtype)"
   ]
  },
  {
   "cell_type": "code",
   "execution_count": 5,
   "metadata": {},
   "outputs": [
    {
     "data": {
      "text/plain": [
       "PCA(copy=True, iterated_power='auto', n_components=2, random_state=None,\n",
       "    svd_solver='auto', tol=0.0, whiten=False)"
      ]
     },
     "execution_count": 5,
     "metadata": {},
     "output_type": "execute_result"
    }
   ],
   "source": [
    "pca=decomposition.PCA(n_components=2)\n",
    "pca.fit(train_data[:,:-1])"
   ]
  },
  {
   "cell_type": "code",
   "execution_count": 6,
   "metadata": {},
   "outputs": [
    {
     "name": "stdout",
     "output_type": "stream",
     "text": [
      "(47163, 3) (11791, 3)\n"
     ]
    }
   ],
   "source": [
    "transformed_train_data_X = pca.transform(train_data[:,:-1])\n",
    "transformed_TEST_data_X = pca.transform(TEST_data[:,:-1])\n",
    "\n",
    "train_data = np.hstack((transformed_train_data_X,train_data[:,-1:]))\n",
    "TEST_data = np.hstack((transformed_TEST_data_X, TEST_data[:,-1:]))\n",
    "print(train_data.shape, TEST_data.shape)"
   ]
  },
  {
   "cell_type": "code",
   "execution_count": 7,
   "metadata": {},
   "outputs": [],
   "source": [
    "#computing mean and stddev from whole train set (0.80*total data)\n",
    "mean = train_data[:,:-1].mean(axis=0,keepdims=True)\n",
    "stddev = train_data[:,:-1].std(axis=0,keepdims=True)"
   ]
  },
  {
   "cell_type": "code",
   "execution_count": 8,
   "metadata": {},
   "outputs": [],
   "source": [
    "train_data[:,:-1]-=mean\n",
    "TEST_data[:,:-1]-=mean\n",
    "train_data[:,:-1]/=stddev\n",
    "TEST_data[:,:-1]/=stddev"
   ]
  },
  {
   "cell_type": "code",
   "execution_count": 9,
   "metadata": {},
   "outputs": [
    {
     "name": "stdout",
     "output_type": "stream",
     "text": [
      "5\n",
      "(11791, 2) (11791, 1)\n"
     ]
    }
   ],
   "source": [
    "Cross_Validation_data=np.array_split(train_data,5)\n",
    "print(len(Cross_Validation_data))\n",
    "\n",
    "X_TEST,y_TEST = TEST_data[:,:-1],TEST_data[:,-1:]\n",
    "print(X_TEST.shape, y_TEST.shape)"
   ]
  },
  {
   "cell_type": "code",
   "execution_count": 10,
   "metadata": {},
   "outputs": [],
   "source": [
    "'''\n",
    "input - \n",
    "train_data (n,d+1) - last col is y\n",
    "X_test (n,d)\n",
    "k = no. of neighbours\n",
    "metric - 0,1,2 norm : distance/metric between two vectors | 0 means infinite norm\n",
    "\n",
    "output-\n",
    "y_pred (n,)\n",
    "'''\n",
    "def Predict_using_KNN(train_data, X_test, k, metric):\n",
    "    X_train = train_data[:,:-1]\n",
    "    y_train = train_data[:,-1:]\n",
    "    y_pred_test = np.zeros((X_test.shape[0],),dtype='uint8')\n",
    "    for i in range(len(X_test)):\n",
    "        print('i=%u'%i,end='\\r')\n",
    "        x = X_test[i].reshape(1,-1)\n",
    "        metrics = np.absolute(X_train-x)\n",
    "        if metric==0:\n",
    "            metrics = metrics.max(axis=1)\n",
    "        elif metric==1:\n",
    "            metrics = metrics.sum(axis=1)\n",
    "        else: # metric=2\n",
    "            metrics = np.sqrt(np.square(metrics).sum(axis=1))\n",
    "\n",
    "        metrics_mapped_to_labels = np.column_stack((metrics,y_train))\n",
    "        metrics_mapped_to_labels = metrics_mapped_to_labels[metrics_mapped_to_labels[:,0].argsort()]\n",
    "\n",
    "        #now estimate the posteriors for all the classes (basically here Q_i = k_i/k is computed, k is removed)\n",
    "        Q = np.zeros((6,))\n",
    "        for j in range(k):\n",
    "            label = int(metrics_mapped_to_labels[j,1])\n",
    "            Q[label]+=1\n",
    "        y_pred_test[i] = Q.argmax()\n",
    "    return y_pred_test"
   ]
  },
  {
   "cell_type": "code",
   "execution_count": 13,
   "metadata": {},
   "outputs": [],
   "source": [
    "#cross validate\n",
    "def cross_validate(Cross_Validation_data, k, metric):\n",
    "    #cross validate to get per-class precision, recall, F1, macro F1, accuracy\n",
    "    precisions_CV, recalls_CV, F1s_CV, macro_F1_CV, test_acc_CV = [],[],[],[],[]\n",
    "\n",
    "    for i,validation_data in enumerate(Cross_Validation_data):\n",
    "\n",
    "        remaining_data_for_training = np.concatenate(Cross_Validation_data[0:i]+Cross_Validation_data[i+1:])\n",
    "        train = remaining_data_for_training\n",
    "        X_test, y_test = validation_data[:,:-1], validation_data[:,-1].astype(np.uint8)\n",
    "        y_pred_test = Predict_using_KNN(train, X_test, k=k, metric=metric)\n",
    "        \n",
    "        tupple = classification_performance_metrics(y_pred_test, y_test,None)\n",
    "\n",
    "        test_acc_CV.append(accuracy(y_pred_test, y_test))\n",
    "        precisions_CV.append(tupple[0])\n",
    "        recalls_CV.append(tupple[1])\n",
    "        F1s_CV.append(tupple[2])\n",
    "        macro_F1_CV.append(tupple[3]) #tupple[4] is confusion matrix\n",
    "        \n",
    "#         break\n",
    "    \n",
    "    n_cv = len(precisions_CV)\n",
    "    precisions, recalls, F1s, macro_F1, test_acc = sum(precisions_CV)/n_cv, sum(recalls_CV)/n_cv, sum(F1s_CV)/n_cv, sum(macro_F1_CV)/n_cv, sum(test_acc_CV)/n_cv\n",
    "    return precisions, recalls, F1s, macro_F1, test_acc"
   ]
  },
  {
   "cell_type": "code",
   "execution_count": 25,
   "metadata": {},
   "outputs": [
    {
     "name": "stdout",
     "output_type": "stream",
     "text": [
      "k=1\n",
      "0.969892929078766\n",
      "k=5\n",
      "0.9786918265663097\n",
      "k=25\n",
      "0.9790098590056185\n",
      "k=125\n",
      "0.9742393724159865\n",
      "k=625\n",
      "0.9671366479380897\n"
     ]
    },
    {
     "data": {
      "image/png": "[encoded data removed]",
      "text/plain": [
       "<Figure size 432x288 with 1 Axes>"
      ]
     },
     "metadata": {
      "needs_background": "light"
     },
     "output_type": "display_data"
    }
   ],
   "source": [
    "test_accs = []\n",
    "ks=[1,5,25,125,625]\n",
    "for k in ks:\n",
    "    print('k=%u'%k)\n",
    "    _ = cross_validate(Cross_Validation_data, k=k, metric=2)\n",
    "    print(_[-1])\n",
    "    test_accs.append(_[-1])\n",
    "plt.title('experiment1 - finding k | bias variance decompostion')\n",
    "plt.plot(ks, test_accs)\n",
    "plt.xlabel('k')\n",
    "plt.ylabel('validation acc')\n",
    "plt.show()\n",
    "np.save('val_accs_KNN.npy',test_accs)"
   ]
  },
  {
   "cell_type": "code",
   "execution_count": 26,
   "metadata": {},
   "outputs": [],
   "source": [
    "val_accs_KNN=test_accs"
   ]
  },
  {
   "cell_type": "code",
   "execution_count": 14,
   "metadata": {},
   "outputs": [
    {
     "name": "stdout",
     "output_type": "stream",
     "text": [
      "norm=0\n",
      "0.9819781617725007\n",
      "norm=1\n",
      "0.9817661401462949\n",
      "norm=2\n",
      "0.9819781617725007\n"
     ]
    },
    {
     "data": {
      "image/png": "[encoded data removed]",
      "text/plain": [
       "<Figure size 432x288 with 1 Axes>"
      ]
     },
     "metadata": {
      "needs_background": "light"
     },
     "output_type": "display_data"
    }
   ],
   "source": [
    "test_accs = []\n",
    "norms=[0,1,2]\n",
    "for norm in norms:\n",
    "    print('norm=%u'%norm)\n",
    "    _ = cross_validate(Cross_Validation_data, k=5, metric=norm)\n",
    "    print(_[-1])\n",
    "    test_accs.append(_[-1])\n",
    "plt.title('finding norm')\n",
    "plt.plot(norms, test_accs)\n",
    "plt.xlabel('norm')\n",
    "plt.ylabel('validation acc')\n",
    "plt.savefig('findingNorm.png')\n",
    "plt.show()"
   ]
  },
  {
   "cell_type": "code",
   "execution_count": 29,
   "metadata": {},
   "outputs": [
    {
     "name": "stdout",
     "output_type": "stream",
     "text": [
      "cross validation\n",
      "validation acc = 0.9797519346973391 ; validation macro F1 = 0.9802539790120449\n"
     ]
    }
   ],
   "source": [
    "# FINALLY, give cross validation accuracy and complete TEST accuracy\n",
    "val_perf = cross_validate(Cross_Validation_data, k=5, metric=1)\n",
    "print(\"cross validation\")\n",
    "print('validation acc =',val_perf[-1],\"; validation macro F1 =\",val_perf[-2])"
   ]
  },
  {
   "cell_type": "code",
   "execution_count": 31,
   "metadata": {},
   "outputs": [
    {
     "name": "stdout",
     "output_type": "stream",
     "text": [
      "TEST accuracy, TEST macro F1 0.978882198286829 0.9790171451004502\n"
     ]
    }
   ],
   "source": [
    "#now finally, train on complete TRAIN set and evaluate TEST\n",
    "y_pred_TEST = Predict_using_KNN(train_data, TEST_data[:,:-1], k=5, metric=2)\n",
    "test_metrics=classification_performance_metrics(y_pred_TEST, TEST_data[:,-1],'KNN')\n",
    "np.save('y_pred_TEST_KNN.npy',y_pred_TEST)\n",
    "print(\"TEST accuracy, TEST macro F1\", accuracy(y_pred_TEST, TEST_data[:,-1]),test_metrics[-2])"
   ]
  },
  {
   "cell_type": "code",
   "execution_count": 13,
   "metadata": {},
   "outputs": [],
   "source": [
    "'''\n",
    "input - \n",
    "train_data (n,d+1) - last col is y\n",
    "X_test (n,d)\n",
    "h = window size => x belongs in hypercube (of vol h^d) centered at x0 if np.max(np.absolute(x-xo))<=h/2\n",
    "\n",
    "output-\n",
    "y_pred (n,)\n",
    "'''\n",
    "def Predict_using_Parzen(train_data, X_test, h):\n",
    "    X_train = train_data[:,:-1]\n",
    "    y_train = train_data[:,-1].astype(np.uint8)\n",
    "    priors = np.bincount(y_train)/y_train.shape[0]\n",
    "    \n",
    "    y_pred_test = np.zeros((X_test.shape[0],),dtype='uint8')\n",
    "    for i in range(len(X_test)):\n",
    "        print('i=%u'%i,end='\\r')\n",
    "        x = X_test[i].reshape(1,-1)\n",
    "        window_fn = np.max(np.absolute(X_train-x),axis=1) <= (h/2)\n",
    "        labels_inside_window = y_train[window_fn]\n",
    "        \n",
    "        #now estimate the posteriors for both the classes (basically here Q_i = p_i*f_i is computed; unnormalised)\n",
    "        posteriors = np.zeros((6,))\n",
    "        for j in range(6):\n",
    "            posteriors[j] = (labels_inside_window==j).sum() * priors[j]\n",
    "        y_pred_test[i] = posteriors.argmax()\n",
    "    return y_pred_test"
   ]
  },
  {
   "cell_type": "code",
   "execution_count": 18,
   "metadata": {},
   "outputs": [],
   "source": [
    "#cross validate\n",
    "def cross_validate(Cross_Validation_data, h):\n",
    "    #cross validate to get per-class precision, recall, F1, macro F1, accuracy\n",
    "    precisions_CV, recalls_CV, F1s_CV, macro_F1_CV, test_acc_CV = [],[],[],[],[]\n",
    "\n",
    "    for i,validation_data in enumerate(Cross_Validation_data):\n",
    "\n",
    "        remaining_data_for_training = np.concatenate(Cross_Validation_data[0:i]+Cross_Validation_data[i+1:])\n",
    "        train = remaining_data_for_training\n",
    "        X_test, y_test = validation_data[:,:-1], validation_data[:,-1].astype(np.uint8)\n",
    "        y_pred_test = Predict_using_Parzen(train, X_test, h=h)\n",
    "        \n",
    "        tupple = classification_performance_metrics(y_pred_test, y_test,None)\n",
    "\n",
    "        test_acc_CV.append(accuracy(y_pred_test, y_test))\n",
    "        precisions_CV.append(tupple[0])\n",
    "        recalls_CV.append(tupple[1])\n",
    "        F1s_CV.append(tupple[2])\n",
    "        macro_F1_CV.append(tupple[3]) #tupple[4] is confusion matrix\n",
    "        \n",
    "#         break\n",
    "    \n",
    "    n_cv = len(precisions_CV)\n",
    "    precisions, recalls, F1s, macro_F1, test_acc = sum(precisions_CV)/n_cv, sum(recalls_CV)/n_cv, sum(F1s_CV)/n_cv, sum(macro_F1_CV)/n_cv, sum(test_acc_CV)/n_cv\n",
    "    return precisions, recalls, F1s, macro_F1, test_acc"
   ]
  },
  {
   "cell_type": "code",
   "execution_count": 19,
   "metadata": {},
   "outputs": [
    {
     "name": "stdout",
     "output_type": "stream",
     "text": [
      "h=0.001000\n",
      "0.22495494540443126\n",
      "h=0.005000\n",
      "0.46453938301706776\n",
      "h=0.010000\n",
      "0.6853599067104845\n",
      "h=0.050000\n",
      "0.9612000424043252\n",
      "h=0.100000\n",
      "0.9737093183504717\n",
      "h=1.000000\n",
      "0.9243082794445033\n",
      "h=2.000000\n",
      "0.7509806000212021\n"
     ]
    },
    {
     "data": {
      "image/png": "[encoded data removed]",
      "text/plain": [
       "<Figure size 432x288 with 1 Axes>"
      ]
     },
     "metadata": {
      "needs_background": "light"
     },
     "output_type": "display_data"
    }
   ],
   "source": [
    "test_accs = []\n",
    "hs=[0.001, 0.005, 0.01, 0.05, 0.1, 1,2]\n",
    "for h in hs:\n",
    "    print('h=%f'%h)\n",
    "    _ = cross_validate(Cross_Validation_data, h=h)\n",
    "    print(_[-1])\n",
    "    test_accs.append(_[-1])\n",
    "plt.title('experiment1 - finding h | bias variance decompostion')\n",
    "plt.plot(hs, test_accs)\n",
    "plt.xlabel('h')\n",
    "plt.ylabel('validation acc')\n",
    "np.save('val_accs_Parzen.npy',test_accs)\n",
    "plt.show()"
   ]
  },
  {
   "cell_type": "code",
   "execution_count": 20,
   "metadata": {},
   "outputs": [],
   "source": [
    "val_accs_Parzen = test_accs"
   ]
  },
  {
   "cell_type": "code",
   "execution_count": 21,
   "metadata": {},
   "outputs": [
    {
     "name": "stdout",
     "output_type": "stream",
     "text": [
      "cross validation\n",
      "validation acc = 0.9737093183504717 ; validation macro F1 = 0.9741498077563723\n"
     ]
    }
   ],
   "source": [
    "# FINALLY, give cross validation accuracy and complete TEST accuracy\n",
    "val_perf = cross_validate(Cross_Validation_data,h=0.1)\n",
    "print(\"cross validation\")\n",
    "print('validation acc =',val_perf[-1],\"; validation macro F1 =\",val_perf[-2])    "
   ]
  },
  {
   "cell_type": "code",
   "execution_count": 22,
   "metadata": {},
   "outputs": [
    {
     "name": "stdout",
     "output_type": "stream",
     "text": [
      "0.976083453481469 0.9761603521307746\n"
     ]
    }
   ],
   "source": [
    "#now finally, train on complete TRAIN set and evaluate TEST\n",
    "y_pred_TEST = Predict_using_Parzen(train_data, TEST_data[:,:-1], h=0.1)\n",
    "test_metrics=classification_performance_metrics(y_pred_TEST, TEST_data[:,-1],'Parzen')\n",
    "np.save('y_pred_TEST_Parzen.npy',y_pred_TEST)\n",
    "print(accuracy(y_pred_TEST, TEST_data[:,-1]),test_metrics[-2])"
   ]
  },
  {
   "cell_type": "code",
   "execution_count": 46,
   "metadata": {},
   "outputs": [
    {
     "data": {
      "image/png": "[encoded data removed]",
      "text/plain": [
       "<Figure size 432x288 with 2 Axes>"
      ]
     },
     "metadata": {
      "needs_background": "light"
     },
     "output_type": "display_data"
    }
   ],
   "source": [
    "fig,ax = plt.subplots()\n",
    "plt.title('bias-variance decompostion:KNN, Parzen')\n",
    "x=[310*h for h in hs]\n",
    "ax.plot(x, val_accs_Parzen,label='Parzen',c='r')\n",
    "ax.set_xlabel(\"model complexity (window size or #neighbour)\")\n",
    "ax.set_ylabel('validation acc (Parzen)')\n",
    "plt.legend()\n",
    "ax2=ax.twinx()\n",
    "x=ks\n",
    "ax2.plot(x, val_accs_KNN,label='KNN',c='g')\n",
    "ax2.set_ylabel('validation acc (KNN)')\n",
    "plt.savefig('BiasVariance_KNNParzen.png')\n",
    "plt.legend()\n",
    "plt.show()"
   ]
  },
  {
   "cell_type": "code",
   "execution_count": null,
   "metadata": {},
   "outputs": [],
   "source": []
  }
 ],
 "metadata": {
  "kernelspec": {
   "display_name": "Python 3",
   "language": "python",
   "name": "python3"
  },
  "language_info": {
   "codemirror_mode": {
    "name": "ipython",
    "version": 3
   },
   "file_extension": ".py",
   "mimetype": "text/x-python",
   "name": "python",
   "nbconvert_exporter": "python",
   "pygments_lexer": "ipython3",
   "version": "3.7.5"
  }
 },
 "nbformat": 4,
 "nbformat_minor": 2
}
