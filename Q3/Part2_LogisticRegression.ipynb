{
 "cells": [
  {
   "cell_type": "code",
   "execution_count": 1,
   "metadata": {},
   "outputs": [],
   "source": [
    "import pandas as pd\n",
    "import numpy as np\n",
    "import random\n",
    "from mpl_toolkits.mplot3d import Axes3D\n",
    "import matplotlib.pyplot as plt\n",
    "import os\n",
    "import PIL.Image as Image\n",
    "import math\n",
    "from sklearn import decomposition\n",
    "from sklearn.preprocessing import PolynomialFeatures"
   ]
  },
  {
   "cell_type": "code",
   "execution_count": 2,
   "metadata": {},
   "outputs": [],
   "source": [
    "'''\n",
    "input-\n",
    "y_pred, y_true shape is (n,) (NOT in one-hot representation)\n",
    "multi-class such that ypred,ytrue has values in 0,1,2,..,label-1\n",
    "\n",
    "In confusion matrix, it is assumed that there are 6 labels.\n",
    "\n",
    "output-\n",
    "precisions, recalls, F1s numpy arrays of shape (no. of labels,)\n",
    "confusion matrix - numpy matrix (label,label)\n",
    "'''\n",
    "def classification_performance_metrics(y_pred, y_true, exp_name):\n",
    "    \n",
    "    y_pred = y_pred.astype('uint8')\n",
    "    y_true = y_true.astype('uint8')\n",
    "    \n",
    "    confusion_matrix = np.zeros((6,6)) #left side - actual, top side - predicted\n",
    "    for true_label in range(6):\n",
    "        true_indices = y_true==true_label\n",
    "        for pred_label in range(6):\n",
    "            check_pred_labels = y_pred[true_indices]\n",
    "            confusion_matrix[true_label][pred_label]= (check_pred_labels == pred_label).sum()\n",
    "    confusion_matrix/=(confusion_matrix.sum(axis=1,keepdims=True))    #normalise it - dividing by column sum\n",
    "\n",
    "    n=y_true.shape\n",
    "    \n",
    "    tp_indices = y_pred==y_true\n",
    "    tp = y_true[tp_indices]\n",
    "    \n",
    "    true_y_per_class = np.bincount(y_true)\n",
    "    labels = true_y_per_class.shape[0]\n",
    "    \n",
    "    tp_per_class = np.zeros((labels,))\n",
    "    tp_per_class[:np.bincount(tp).shape[0]] = np.bincount(tp)\n",
    "    predicted_y_per_class = np.zeros((labels,))\n",
    "    predicted_y_per_class[:np.bincount(y_pred).shape[0]] = np.bincount(y_pred)\n",
    "    \n",
    "    precisions, recalls, F1s = [], [], []\n",
    "    #precision, recall, F1 for each class\n",
    "    for i in range(tp_per_class.shape[0]):\n",
    "        TP = tp_per_class[i]\n",
    "        TN = tp_per_class.sum() - TP\n",
    "        FP = predicted_y_per_class[i] - TP\n",
    "        FN = true_y_per_class[i] - TP\n",
    "        \n",
    "        precision = TP/(TP+FP) if TP+FP!=0 else 0\n",
    "        recall = TP/(TP+FN) if TP+FN!=0 else 0\n",
    "        F1 = 2*TP/(2*TP+FP+FN) if TP+FP+FN!=0 else 0\n",
    "        FPR = FP/(FP+TN) if FP+TN!=0 else 0\n",
    "\n",
    "        precisions.append(precision)\n",
    "        recalls.append(recall)\n",
    "        F1s.append(F1)\n",
    "        \n",
    "    if exp_name!=None:\n",
    "        #save csv files\n",
    "        categories=[\"AbdomenCT\",\"BreastMRI\",\"ChestCT\",\"CXR\",\"Hand\",\"HeadCT\"]\n",
    "        dikt = {}\n",
    "        dikt['Precision']=np.round(precisions,3)\n",
    "        dikt['Recall']=np.round(recalls,3)\n",
    "        dikt['F1']=np.round(F1s,3)\n",
    "\n",
    "        df = pd.DataFrame(data=dikt,index=categories)\n",
    "        df.to_csv('%s_perClass.csv'%exp_name)\n",
    "        df = pd.DataFrame(data=np.round(confusion_matrix,3),index=categories,columns=categories)\n",
    "        df.to_csv('%s_ConfMat.csv'%exp_name)\n",
    "    \n",
    "    \n",
    "    precisions=np.array(precisions)\n",
    "    recalls=np.array(recalls)\n",
    "    F1s=np.array(F1s)\n",
    "    macro_F1=F1s.mean()\n",
    "    \n",
    "    return precisions, recalls, F1s, macro_F1, confusion_matrix\n",
    "\n",
    "def accuracy(y_pred, y_true):\n",
    "    return (y_pred==y_true).sum()/y_true.shape[0]"
   ]
  },
  {
   "cell_type": "markdown",
   "metadata": {},
   "source": [
    "### Data Preprocessing"
   ]
  },
  {
   "cell_type": "code",
   "execution_count": 3,
   "metadata": {},
   "outputs": [],
   "source": [
    "category = {}\n",
    "category[0] = \"AbdomenCT\"\n",
    "category[1] = \"BreastMRI\"\n",
    "category[2] = \"ChestCT\"\n",
    "category[3] = \"CXR\"\n",
    "category[4] = \"Hand\"\n",
    "category[5] = \"HeadCT\"\n",
    "path = './Medical_MNIST/'"
   ]
  },
  {
   "cell_type": "code",
   "execution_count": 4,
   "metadata": {},
   "outputs": [
    {
     "name": "stdout",
     "output_type": "stream",
     "text": [
      "(47163, 4097) float64\n",
      "(11791, 4097) float64\n"
     ]
    }
   ],
   "source": [
    "train_data=np.load('train.npy').astype(np.float64) #loading as float because i have to normalise later\n",
    "np.random.shuffle(train_data)\n",
    "TEST_data=np.load('test.npy').astype(np.float64)\n",
    "print(train_data.shape, train_data.dtype)\n",
    "print(TEST_data.shape, TEST_data.dtype)"
   ]
  },
  {
   "cell_type": "code",
   "execution_count": 5,
   "metadata": {},
   "outputs": [
    {
     "data": {
      "image/png": "[encoded data removed]",
      "text/plain": [
       "<Figure size 432x288 with 1 Axes>"
      ]
     },
     "metadata": {
      "needs_background": "light"
     },
     "output_type": "display_data"
    }
   ],
   "source": [
    "# using PCA to find appropriate number of components\n",
    "\n",
    "pca=decomposition.PCA(n_components=5)\n",
    "pca.fit(train_data[:,:-1])\n",
    "variances=pca.explained_variance_ratio_\n",
    "plt.title('% Variance in each Principal Component of data')\n",
    "plt.xlabel('Principal component number')\n",
    "plt.ylabel('% Variance in the component')\n",
    "plt.plot([1,2,3,4,5],variances,marker='.')\n",
    "plt.savefig('PCA.png')\n",
    "plt.show()"
   ]
  },
  {
   "cell_type": "code",
   "execution_count": 6,
   "metadata": {},
   "outputs": [
    {
     "name": "stdout",
     "output_type": "stream",
     "text": [
      "(47163, 3) (11791, 3)\n"
     ]
    }
   ],
   "source": [
    "pca=decomposition.PCA(n_components=2)\n",
    "pca.fit(train_data[:,:-1])\n",
    "\n",
    "transformed_train_data_X = pca.transform(train_data[:,:-1])\n",
    "transformed_TEST_data_X = pca.transform(TEST_data[:,:-1])\n",
    "\n",
    "train_data = np.hstack((transformed_train_data_X,train_data[:,-1:]))\n",
    "TEST_data = np.hstack((transformed_TEST_data_X, TEST_data[:,-1:]))\n",
    "print(train_data.shape, TEST_data.shape)\n",
    "\n",
    "#computing mean and stddev from whole train set (0.80*total data)\n",
    "mean = train_data[:,:-1].mean(axis=0,keepdims=True)\n",
    "stddev = train_data[:,:-1].std(axis=0,keepdims=True)\n",
    "\n",
    "train_data[:,:-1]-=mean\n",
    "TEST_data[:,:-1]-=mean\n",
    "train_data[:,:-1]/=stddev\n",
    "TEST_data[:,:-1]/=stddev\n",
    "\n",
    "# Data is normalised and in two dimensions"
   ]
  },
  {
   "cell_type": "code",
   "execution_count": 7,
   "metadata": {},
   "outputs": [
    {
     "name": "stdout",
     "output_type": "stream",
     "text": [
      "5\n",
      "(11791, 2) (11791, 1)\n"
     ]
    }
   ],
   "source": [
    "Cross_Validation_data=np.array_split(train_data,5)\n",
    "print(len(Cross_Validation_data))\n",
    "\n",
    "X_TEST,y_TEST = TEST_data[:,:-1],TEST_data[:,-1:]\n",
    "print(X_TEST.shape, y_TEST.shape)"
   ]
  },
  {
   "cell_type": "code",
   "execution_count": 8,
   "metadata": {},
   "outputs": [
    {
     "name": "stdout",
     "output_type": "stream",
     "text": [
      "(47163, 3) (9433, 3)\n",
      "train size = 37730\n",
      "val size = 9433\n",
      "test size = 11791\n"
     ]
    }
   ],
   "source": [
    "print(train_data.shape, Cross_Validation_data[0].shape)\n",
    "print('train size = {}'.format(train_data.shape[0]-Cross_Validation_data[0].shape[0]))\n",
    "print('val size = {}'.format(Cross_Validation_data[0].shape[0]))\n",
    "print('test size = {}'.format(TEST_data.shape[0]))"
   ]
  },
  {
   "cell_type": "markdown",
   "metadata": {},
   "source": [
    "# Generalised Linear Models \n",
    "g(x) = sigma(wT.phi_x) with MAE, MSE and Cross Entropy Loss\n",
    "   \n",
    "### Regularisation - \n",
    "various forms and their interpretations are explicitly shown in question 2. Here, regularisation is only used to remove overfiting i.e. adding bias into the model. Thus, first we attempt to overfit the model and then regularise if overfitting happens\n",
    "\n",
    "### SGD - \n",
    "implemented on the final model with final loss function"
   ]
  },
  {
   "cell_type": "code",
   "execution_count": 9,
   "metadata": {},
   "outputs": [],
   "source": [
    "def sigmoid(Z):\n",
    "    Z = np.clip(Z ,a_min = -100, a_max = 100)\n",
    "    sig = 1/(1 + np.exp(-Z))\n",
    "    sig = np.clip(sig,a_min = 10**-7, a_max = 1-(10**-7))\n",
    "    return sig #shape = n,6\n",
    "\n",
    "def hypothesis(X, w):\n",
    "    return sigmoid(X.dot(w)) #shape = n,6\n",
    "\n",
    "def predict(X, w): \n",
    "    temp = hypothesis(X,w)\n",
    "    y_pred = np.argmax(temp,axis=1)\n",
    "    return Ypred\n",
    "\n",
    "def mae_loss(Y_true,Y_pred): #y_true(in 1HOT) and hypothesis\n",
    "    return (np.absolute(Y_true-Y_pred)).mean()\n",
    "\n",
    "def mse_loss(Y_true,Y_pred): #y_true(in 1HOT) and hypothesis\n",
    "    return ((Y_true-Y_pred)**2).mean()\n",
    "\n",
    "def cross_entropy_loss(y_true, y_pred): #y_true and hypothesis\n",
    "    return (-np.multiply(y_true,np.log(y_pred)) - np.multiply((1-y_true),np.log(1-y_pred))).mean()"
   ]
  },
  {
   "cell_type": "code",
   "execution_count": 10,
   "metadata": {},
   "outputs": [],
   "source": [
    "def GradientDescent_MAE(X_train, y_train, X_test, y_test, epochs, lr, alpha):    \n",
    "    # X_train, X_test shape = (n,d)\n",
    "    # y_train, y_test shape = (n,1) IMPORTANT - NOT in 1-hot\n",
    "    \n",
    "    # convert into one-hot representation\n",
    "    y_train_1HOT = np.eye(6)[y_train[:,0].astype('uint8')]\n",
    "    y_test_1HOT = np.eye(6)[y_test[:,0].astype('uint8')]\n",
    "    \n",
    "    train_error, test_error, train_acc, test_acc = [], [], [], []\n",
    "    \n",
    "    n,m=X_train.shape\n",
    "    \n",
    "    #initialise weights\n",
    "    w = np.random.random((m,6)) #number of classes = 6\n",
    "    for _ in range(epochs):\n",
    "        print('epoch %u'%_,end='\\r')\n",
    "        hypothesis_train = hypothesis(X_train, w)\n",
    "        hypothesis_test = hypothesis(X_test, w)\n",
    "        \n",
    "        gradient = (X_train.T.dot( np.sign(hypothesis_train - y_train_1HOT)*(hypothesis_train)*(1-hypothesis_train) ) / n) + 2*alpha*w \n",
    "\n",
    "        train_error.append(mae_loss(y_train_1HOT, hypothesis_train))\n",
    "        test_error.append(mae_loss(y_test_1HOT, hypothesis_test))\n",
    "        \n",
    "        y_pred_train = np.argmax(hypothesis_train,axis=1)\n",
    "        y_pred_test = np.argmax(hypothesis_test,axis=1)\n",
    "\n",
    "        \n",
    "        train_acc.append(accuracy(y_pred_train, y_train[:,0]))\n",
    "        test_acc.append(accuracy(y_pred_test, y_test[:,0]))\n",
    "        \n",
    "        # lr scheduling since using MAE loss function (gradient fixed = 1)\n",
    "        if _ == epochs-20:\n",
    "            lr/=10.\n",
    "            \n",
    "        w = w - lr * gradient\n",
    "        \n",
    "    return y_pred_train, y_pred_test, train_error, test_error, train_acc, test_acc"
   ]
  },
  {
   "cell_type": "code",
   "execution_count": 11,
   "metadata": {},
   "outputs": [],
   "source": [
    "def GradientDescent_MSE(X_train, y_train, X_test, y_test, epochs, lr, alpha):    \n",
    "    # X_train, X_test shape = (n,d)\n",
    "    # y_train, y_test shape = (n,1) IMPORTANT - NOT in 1-hot\n",
    "    \n",
    "    # convert into one-hot representation\n",
    "    y_train_1HOT = np.eye(6)[y_train[:,0].astype('uint8')]\n",
    "    y_test_1HOT = np.eye(6)[y_test[:,0].astype('uint8')]\n",
    "    \n",
    "    train_error, test_error, train_acc, test_acc = [], [], [], []\n",
    "    \n",
    "    n,m=X_train.shape\n",
    "    \n",
    "    #initialise weights\n",
    "    w = np.random.random((m,6)) #number of classes = 6\n",
    "    for _ in range(epochs):\n",
    "        print('epoch %u'%_,end='\\r')\n",
    "        hypothesis_train = hypothesis(X_train, w)\n",
    "        hypothesis_test = hypothesis(X_test, w)\n",
    "        \n",
    "        gradient = 2*(X_train.T.dot( (hypothesis_train - y_train_1HOT)*(hypothesis_train)*(1-hypothesis_train) ) / n) + 2*alpha*w \n",
    "\n",
    "        train_error.append(mse_loss(y_train_1HOT, hypothesis_train))\n",
    "        test_error.append(mse_loss(y_test_1HOT, hypothesis_test))\n",
    "        \n",
    "        y_pred_train = np.argmax(hypothesis_train,axis=1)\n",
    "        y_pred_test = np.argmax(hypothesis_test,axis=1)\n",
    "\n",
    "        \n",
    "        train_acc.append(accuracy(y_pred_train, y_train[:,0]))\n",
    "        test_acc.append(accuracy(y_pred_test, y_test[:,0]))\n",
    "        \n",
    "        if _ == epochs-20:\n",
    "            lr/=10.\n",
    "        w = w - lr * gradient\n",
    "        \n",
    "    return y_pred_train, y_pred_test, train_error, test_error, train_acc, test_acc"
   ]
  },
  {
   "cell_type": "code",
   "execution_count": 12,
   "metadata": {},
   "outputs": [],
   "source": [
    "def GradientDescent_CrossEntropy(X_train, y_train, X_test, y_test, epochs, lr, alpha):    \n",
    "    # X_train, X_test shape = (n,d)\n",
    "    # y_train, y_test shape = (n,1) IMPORTANT - NOT in 1-hot\n",
    "    \n",
    "    # convert into one-hot representation\n",
    "    y_train_1HOT = np.eye(6)[y_train[:,0].astype('uint8')]\n",
    "    y_test_1HOT = np.eye(6)[y_test[:,0].astype('uint8')]\n",
    "    \n",
    "    train_error, test_error, train_acc, test_acc = [], [], [], []\n",
    "    \n",
    "    n,m=X_train.shape\n",
    "    \n",
    "    #initialise weights\n",
    "    w = np.random.random((m,6)) #number of classes = 6\n",
    "    for _ in range(epochs):\n",
    "        print('epoch %u'%_,end='\\r')\n",
    "        hypothesis_train = hypothesis(X_train, w)\n",
    "        hypothesis_test = hypothesis(X_test, w)\n",
    "        \n",
    "        gradient = (2*((X_train.T).dot(hypothesis_train - y_train_1HOT)) / n) + 2*alpha*w \n",
    "\n",
    "        train_error.append(cross_entropy_loss(y_train_1HOT, hypothesis_train))\n",
    "        test_error.append(cross_entropy_loss(y_test_1HOT, hypothesis_test))\n",
    "        \n",
    "        y_pred_train = np.argmax(hypothesis_train,axis=1)\n",
    "        y_pred_test = np.argmax(hypothesis_test,axis=1)\n",
    "\n",
    "        \n",
    "        train_acc.append(accuracy(y_pred_train, y_train[:,0]))\n",
    "        test_acc.append(accuracy(y_pred_test, y_test[:,0]))\n",
    "\n",
    "        if _ == epochs-20:\n",
    "            lr/=10.\n",
    "        w = w - lr * gradient\n",
    "        \n",
    "    return y_pred_train, y_pred_test, train_error, test_error, train_acc, test_acc"
   ]
  },
  {
   "cell_type": "code",
   "execution_count": 13,
   "metadata": {},
   "outputs": [],
   "source": [
    "## first I found out the correct learning rate \n",
    "\n",
    "# plt.figure(figsize=(16.,6.))\n",
    "# for lr in [1, .1, .01]:\n",
    "#     alpha=0\n",
    "#     poly=PolynomialFeatures(1) #this just adds '1' in x i.e. gives augmented X\n",
    "#     remaining_data_for_training = np.concatenate(Cross_Validation_data[1:])\n",
    "#     X_train, y_train = remaining_data_for_training[:,:-1], remaining_data_for_training[:,-1:]\n",
    "#     X_test, y_test = Cross_Validation_data[0][:,:-1], Cross_Validation_data[0][:,-1:]\n",
    "\n",
    "#     Phi_X=poly.fit_transform(X_train)\n",
    "#     Phi_Xt =poly.fit_transform(X_test)\n",
    "\n",
    "#     y_pred_train, y_pred_test, train_error, test_error, train_acc, test_acc = GradientDescent_MAE(Phi_X, y_train, Phi_Xt, y_test, epochs=100, lr=lr, alpha = alpha)\n",
    "\n",
    "#     print(\"train_error, val_error\", train_error[-1],test_error[-1])\n",
    "#     print(\"train_acc, val_acc\", train_acc[-1],test_acc[-1])\n",
    "#     print()\n",
    "\n",
    "#     plt.subplot(1,2,1)\n",
    "#     plt.xlabel('epochs')\n",
    "#     plt.ylabel('error')\n",
    "#     plt.plot(train_error,label='train error (lr,alpha)=({},{})'.format(lr,alpha))\n",
    "#     plt.plot(test_error,label='val error (lr,alpha)=({},{})'.format(lr,alpha))\n",
    "#     plt.legend()\n",
    "#     plt.subplot(1,2,2)\n",
    "#     plt.xlabel('epochs')\n",
    "#     plt.ylabel('acc')\n",
    "#     plt.plot(train_acc,label='train acc (lr,alpha)=({},{})'.format(lr,alpha))\n",
    "#     plt.plot(test_acc,label='val acc (lr,alpha)=({},{})'.format(lr,alpha))\n",
    "#     plt.legend()\n",
    "    \n",
    "# plt.show()\n",
    "\n",
    "## THUS, after seeing the plot => LEARNING RATE = 1"
   ]
  },
  {
   "cell_type": "markdown",
   "metadata": {},
   "source": [
    "MAE Loss"
   ]
  },
  {
   "cell_type": "code",
   "execution_count": 14,
   "metadata": {},
   "outputs": [
    {
     "name": "stdout",
     "output_type": "stream",
     "text": [
      "validating on part 0\n",
      "validating on part 1\n",
      "validating on part 2\n",
      "validating on part 3\n",
      "validating on part 4\n",
      "epoch 99\r"
     ]
    }
   ],
   "source": [
    "lr,alpha = 1, 0\n",
    "poly=PolynomialFeatures(1) #this just adds '1' in x i.e. gives augmented X\n",
    "#cross validate\n",
    "train_error_GD_CV, test_error_GD_CV, train_acc_GD_CV, test_acc_GD_CV = [],[],[],[] #gradient descent curve parameters\n",
    "precisions_CV, recalls_CV, F1s_CV, macro_F1_CV, train_acc_CV, test_acc_CV = [],[],[],[],[],[] #final performance metrics\n",
    "\n",
    "for i,validation_data in enumerate(Cross_Validation_data):\n",
    "    print('validating on part %u'%i)\n",
    "    remaining_data_for_training = np.concatenate(Cross_Validation_data[0:i]+Cross_Validation_data[i+1:])\n",
    "    X_train, y_train = remaining_data_for_training[:,:-1], remaining_data_for_training[:,-1:]\n",
    "    X_test, y_test = validation_data[:,:-1], validation_data[:,-1:]\n",
    "\n",
    "    Phi_X = poly.fit_transform(X_train)\n",
    "    Phi_Xt = poly.fit_transform(X_test)\n",
    "\n",
    "    y_pred_train, y_pred_test, train_error, test_error, train_acc, test_acc = GradientDescent_MAE(Phi_X, y_train, Phi_Xt, y_test, epochs=100, lr=lr, alpha = alpha)\n",
    "    tupple = classification_performance_metrics(y_pred_test,y_test[:,0],None)\n",
    "    \n",
    "    train_error_GD_CV.append(train_error)\n",
    "    test_error_GD_CV.append(test_error)\n",
    "    train_acc_GD_CV.append(train_acc)\n",
    "    test_acc_GD_CV.append(test_acc)\n",
    "    \n",
    "    precisions_CV.append(tupple[0])\n",
    "    recalls_CV.append(tupple[1])\n",
    "    F1s_CV.append(tupple[2])\n",
    "    macro_F1_CV.append(tupple[3]) #tupple[4] is confusion matrix\n",
    "    train_acc_CV.append(accuracy(y_pred_train,y_train[:,0]))\n",
    "    test_acc_CV.append(accuracy(y_pred_test, y_test[:,0]))\n",
    "    \n",
    "precisions, recalls, F1s, macro_F1, train_acc, test_acc = sum(precisions_CV)/5, sum(recalls_CV)/5, sum(F1s_CV)/5, sum(macro_F1_CV)/5, sum(train_acc_CV)/5, sum(test_acc_CV)/5\n",
    "train_error_GD, test_error_GD, train_acc_GD, test_acc_GD = np.array(train_error_GD_CV).sum(axis=0)/5, np.array(test_error_GD_CV).sum(axis=0)/5, np.array(train_acc_GD_CV).sum(axis=0)/5, np.array(test_acc_GD_CV).sum(axis=0)/5"
   ]
  },
  {
   "cell_type": "code",
   "execution_count": 15,
   "metadata": {},
   "outputs": [
    {
     "name": "stdout",
     "output_type": "stream",
     "text": [
      "validation acc = 0.6431948655879101 ; validation macro F1 = 0.527171355398657\n"
     ]
    }
   ],
   "source": [
    "print('validation acc =',test_acc,\"; validation macro F1 =\",macro_F1)\n",
    "\n",
    "train_error_GD_MAE = train_error_GD\n",
    "val_error_GD_MAE = test_error_GD\n",
    "train_acc_GD_MAE = train_acc_GD\n",
    "val_acc_GD_MAE = test_acc_GD"
   ]
  },
  {
   "cell_type": "code",
   "execution_count": 16,
   "metadata": {},
   "outputs": [
    {
     "name": "stdout",
     "output_type": "stream",
     "text": [
      "train acc, TEST acc, macro F1 score\n",
      "0.6433220957106206 0.6425239589517429 0.5256766159988888\n"
     ]
    }
   ],
   "source": [
    "#FINALLY, train on complete TRAIN set and evaluate on TEST set\n",
    "X_train, y_train = train_data[:,:-1], train_data[:,-1:]\n",
    "Phi_X = poly.fit_transform(X_train)\n",
    "Phi_Xt = poly.fit_transform(X_TEST)\n",
    "\n",
    "y_pred_train, y_pred_TEST, train_error, TEST_error, train_acc, TEST_acc = GradientDescent_MAE(Phi_X, y_train, Phi_Xt, y_TEST, epochs=150, lr=1, alpha = 0)\n",
    "test_metrics = classification_performance_metrics(y_pred_TEST,y_TEST[:,0],'logistic_MAE')\n",
    "print('train acc, TEST acc, macro F1 score')\n",
    "print( accuracy(y_pred_train, train_data[:,-1]), accuracy(y_pred_TEST, TEST_data[:,-1]), test_metrics[-2] )"
   ]
  },
  {
   "cell_type": "markdown",
   "metadata": {},
   "source": [
    "MSE LOSS"
   ]
  },
  {
   "cell_type": "code",
   "execution_count": 17,
   "metadata": {},
   "outputs": [
    {
     "name": "stdout",
     "output_type": "stream",
     "text": [
      "validating on part 0\n",
      "validating on part 1\n",
      "validating on part 2\n",
      "validating on part 3\n",
      "validating on part 4\n",
      "epoch 99\r"
     ]
    }
   ],
   "source": [
    "lr,alpha = 1, 0\n",
    "poly=PolynomialFeatures(1) #this just adds '1' in x i.e. gives augmented X\n",
    "#cross validate\n",
    "train_error_GD_CV, test_error_GD_CV, train_acc_GD_CV, test_acc_GD_CV = [],[],[],[] #gradient descent curve parameters\n",
    "precisions_CV, recalls_CV, F1s_CV, macro_F1_CV, train_acc_CV, test_acc_CV = [],[],[],[],[],[] #final performance metrics\n",
    "\n",
    "for i,validation_data in enumerate(Cross_Validation_data):\n",
    "    print('validating on part %u'%i)\n",
    "    remaining_data_for_training = np.concatenate(Cross_Validation_data[0:i]+Cross_Validation_data[i+1:])\n",
    "    X_train, y_train = remaining_data_for_training[:,:-1], remaining_data_for_training[:,-1:]\n",
    "    X_test, y_test = validation_data[:,:-1], validation_data[:,-1:]\n",
    "\n",
    "    Phi_X = poly.fit_transform(X_train)\n",
    "    Phi_Xt = poly.fit_transform(X_test)\n",
    "\n",
    "    y_pred_train, y_pred_test, train_error, test_error, train_acc, test_acc = GradientDescent_MSE(Phi_X, y_train, Phi_Xt, y_test, epochs=100, lr=lr, alpha = alpha)\n",
    "    tupple = classification_performance_metrics(y_pred_test,y_test[:,0],None)\n",
    "    \n",
    "    train_error_GD_CV.append(train_error)\n",
    "    test_error_GD_CV.append(test_error)\n",
    "    train_acc_GD_CV.append(train_acc)\n",
    "    test_acc_GD_CV.append(test_acc)\n",
    "    \n",
    "    precisions_CV.append(tupple[0])\n",
    "    recalls_CV.append(tupple[1])\n",
    "    F1s_CV.append(tupple[2])\n",
    "    macro_F1_CV.append(tupple[3]) #tupple[4] is confusion matrix\n",
    "    train_acc_CV.append(accuracy(y_pred_train,y_train[:,0]))\n",
    "    test_acc_CV.append(accuracy(y_pred_test, y_test[:,0]))\n",
    "    \n",
    "precisions, recalls, F1s, macro_F1, train_acc, test_acc = sum(precisions_CV)/5, sum(recalls_CV)/5, sum(F1s_CV)/5, sum(macro_F1_CV)/5, sum(train_acc_CV)/5, sum(test_acc_CV)/5\n",
    "train_error_GD, test_error_GD, train_acc_GD, test_acc_GD = np.array(train_error_GD_CV).sum(axis=0)/5, np.array(test_error_GD_CV).sum(axis=0)/5, np.array(train_acc_GD_CV).sum(axis=0)/5, np.array(test_acc_GD_CV).sum(axis=0)/5"
   ]
  },
  {
   "cell_type": "code",
   "execution_count": 18,
   "metadata": {},
   "outputs": [
    {
     "name": "stdout",
     "output_type": "stream",
     "text": [
      "validation acc = 0.6875304174155534 ; validation macro F1 = 0.6113438994951326\n",
      "train acc, TEST acc, macro F1 score\n",
      "0.7482348451116341 0.7465015689933 0.6947627689819558\n"
     ]
    }
   ],
   "source": [
    "print('validation acc =',test_acc,\"; validation macro F1 =\",macro_F1)\n",
    "\n",
    "train_error_GD_MSE = train_error_GD\n",
    "val_error_GD_MSE = test_error_GD\n",
    "train_acc_GD_MSE = train_acc_GD\n",
    "val_acc_GD_MSE = test_acc_GD\n",
    "\n",
    "#FINALLY, train on complete TRAIN set and evaluate on TEST set\n",
    "X_train, y_train = train_data[:,:-1], train_data[:,-1:]\n",
    "Phi_X = poly.fit_transform(X_train)\n",
    "Phi_Xt = poly.fit_transform(X_TEST)\n",
    "\n",
    "y_pred_train, y_pred_TEST, train_error, TEST_error, train_acc, TEST_acc = GradientDescent_MSE(Phi_X, y_train, Phi_Xt, y_TEST, epochs=200, lr=1, alpha = 0)\n",
    "test_metrics = classification_performance_metrics(y_pred_TEST,y_TEST[:,0],'logistic_MSE')\n",
    "print('train acc, TEST acc, macro F1 score')\n",
    "print( accuracy(y_pred_train, train_data[:,-1]), accuracy(y_pred_TEST, TEST_data[:,-1]), test_metrics[-2] )"
   ]
  },
  {
   "cell_type": "markdown",
   "metadata": {},
   "source": [
    "Cross Entropy"
   ]
  },
  {
   "cell_type": "code",
   "execution_count": 19,
   "metadata": {
    "scrolled": true
   },
   "outputs": [
    {
     "name": "stdout",
     "output_type": "stream",
     "text": [
      "validating on part 0\n",
      "validating on part 1\n",
      "validating on part 2\n",
      "validating on part 3\n",
      "validating on part 4\n",
      "epoch 99\r"
     ]
    }
   ],
   "source": [
    "lr,alpha = 1, 0\n",
    "poly=PolynomialFeatures(1) #this just adds '1' in x i.e. gives augmented X\n",
    "#cross validate\n",
    "train_error_GD_CV, test_error_GD_CV, train_acc_GD_CV, test_acc_GD_CV = [],[],[],[] #gradient descent curve parameters\n",
    "precisions_CV, recalls_CV, F1s_CV, macro_F1_CV, train_acc_CV, test_acc_CV = [],[],[],[],[],[] #final performance metrics\n",
    "\n",
    "for i,validation_data in enumerate(Cross_Validation_data):\n",
    "    print('validating on part %u'%i)\n",
    "    remaining_data_for_training = np.concatenate(Cross_Validation_data[0:i]+Cross_Validation_data[i+1:])\n",
    "    X_train, y_train = remaining_data_for_training[:,:-1], remaining_data_for_training[:,-1:]\n",
    "    X_test, y_test = validation_data[:,:-1], validation_data[:,-1:]\n",
    "\n",
    "    Phi_X = poly.fit_transform(X_train)\n",
    "    Phi_Xt = poly.fit_transform(X_test)\n",
    "\n",
    "    y_pred_train, y_pred_test, train_error, test_error, train_acc, test_acc = GradientDescent_CrossEntropy(Phi_X, y_train, Phi_Xt, y_test, epochs=100, lr=lr, alpha = alpha)\n",
    "    tupple = classification_performance_metrics(y_pred_test,y_test[:,0],None)\n",
    "    \n",
    "    train_error_GD_CV.append(train_error)\n",
    "    test_error_GD_CV.append(test_error)\n",
    "    train_acc_GD_CV.append(train_acc)\n",
    "    test_acc_GD_CV.append(test_acc)\n",
    "    \n",
    "    precisions_CV.append(tupple[0])\n",
    "    recalls_CV.append(tupple[1])\n",
    "    F1s_CV.append(tupple[2])\n",
    "    macro_F1_CV.append(tupple[3]) #tupple[4] is confusion matrix\n",
    "    train_acc_CV.append(accuracy(y_pred_train,y_train[:,0]))\n",
    "    test_acc_CV.append(accuracy(y_pred_test, y_test[:,0]))\n",
    "    \n",
    "precisions, recalls, F1s, macro_F1, train_acc, test_acc = sum(precisions_CV)/5, sum(recalls_CV)/5, sum(F1s_CV)/5, sum(macro_F1_CV)/5, sum(train_acc_CV)/5, sum(test_acc_CV)/5\n",
    "train_error_GD, test_error_GD, train_acc_GD, test_acc_GD = np.array(train_error_GD_CV).sum(axis=0)/5, np.array(test_error_GD_CV).sum(axis=0)/5, np.array(train_acc_GD_CV).sum(axis=0)/5, np.array(test_acc_GD_CV).sum(axis=0)/5"
   ]
  },
  {
   "cell_type": "code",
   "execution_count": 20,
   "metadata": {
    "scrolled": false
   },
   "outputs": [
    {
     "name": "stdout",
     "output_type": "stream",
     "text": [
      "validation acc = 0.8878782165042921 ; validation macro F1 = 0.8860943453064749\n",
      "train acc, TEST acc, macro F1 score\n",
      "0.9238810084176156 0.9182427275040285 0.9180488482760083\n"
     ]
    }
   ],
   "source": [
    "print('validation acc =',test_acc,\"; validation macro F1 =\",macro_F1)\n",
    "\n",
    "train_error_GD_CrEntropy = train_error_GD\n",
    "val_error_GD_CrEntropy = test_error_GD\n",
    "train_acc_GD_CrEntropy = train_acc_GD\n",
    "val_acc_GD_CrEntropy = test_acc_GD\n",
    "\n",
    "#FINALLY, train on complete TRAIN set and evaluate on TEST set\n",
    "X_train, y_train = train_data[:,:-1], train_data[:,-1:]\n",
    "Phi_X = poly.fit_transform(X_train)\n",
    "Phi_Xt = poly.fit_transform(X_TEST)\n",
    "\n",
    "y_pred_train, y_pred_TEST, train_error, TEST_error, train_acc, TEST_acc = GradientDescent_CrossEntropy(Phi_X, y_train, Phi_Xt, y_TEST, epochs=200, lr=1, alpha = 0)\n",
    "test_metrics = classification_performance_metrics(y_pred_TEST,y_TEST[:,0],'logistic_CrossEntropy')\n",
    "print('train acc, TEST acc, macro F1 score')\n",
    "print( accuracy(y_pred_train, train_data[:,-1]), accuracy(y_pred_TEST, TEST_data[:,-1]), test_metrics[-2] )"
   ]
  },
  {
   "cell_type": "code",
   "execution_count": 21,
   "metadata": {
    "scrolled": false
   },
   "outputs": [
    {
     "data": {
      "image/png": "[encoded data removed]",
      "text/plain": [
       "<Figure size 1152x432 with 2 Axes>"
      ]
     },
     "metadata": {
      "needs_background": "light"
     },
     "output_type": "display_data"
    }
   ],
   "source": [
    "plt.figure(figsize=(16.,6.))\n",
    "plt.subplot(1,2,1)\n",
    "plt.xlabel('epochs')\n",
    "plt.ylabel('train and validation error')\n",
    "plt.plot(train_error_GD_MAE,label='MAE')\n",
    "plt.plot(val_error_GD_MAE,label='MAE (val)')\n",
    "plt.plot(train_error_GD_MSE,label='MSE')\n",
    "plt.plot(val_error_GD_MSE,label='MSE (val)')\n",
    "plt.plot(train_error_GD_CrEntropy,label='CrossEntropy')\n",
    "plt.plot(val_error_GD_CrEntropy,label='CrossEntropy (val)')\n",
    "plt.legend()\n",
    "plt.subplot(1,2,2)\n",
    "plt.xlabel('epochs')\n",
    "plt.ylabel('train and validation accuracy')\n",
    "plt.plot(train_acc_GD_MAE,label='MAE')\n",
    "plt.plot(val_acc_GD_MAE,label='MAE (val)')\n",
    "plt.plot(train_acc_GD_MSE,label='MSE')\n",
    "plt.plot(val_acc_GD_MSE,label='MSE (val)')\n",
    "plt.plot(train_acc_GD_CrEntropy,label='CrossEntropy')\n",
    "plt.plot(val_acc_GD_CrEntropy,label='CrossEntropy (val)')\n",
    "plt.legend()\n",
    "plt.savefig('logistic_lossVSaccuracy.png')\n",
    "plt.show()"
   ]
  },
  {
   "cell_type": "markdown",
   "metadata": {},
   "source": [
    "## Observations\n",
    "1. mae < mse < cross entropy : recall for class 1\n",
    "2. accuracy from logistic regression = 91.4%, from bayes = 96.9%, from naive bayes = 96.3% : number of parameters = 3*6, 36, 24"
   ]
  },
  {
   "cell_type": "markdown",
   "metadata": {},
   "source": [
    "#### Increasing model capacity using polynomial regression"
   ]
  },
  {
   "cell_type": "code",
   "execution_count": 26,
   "metadata": {
    "scrolled": true
   },
   "outputs": [
    {
     "name": "stdout",
     "output_type": "stream",
     "text": [
      "0.8878198854118617 0.8879842587879503\n",
      "0.9568782767276292 0.9567881965096996\n",
      "0.9596028679958367 0.9592901506063882\n",
      "0.9633664094852886 0.9632339214460774\n",
      "0.9632921940487906 0.9628947115710128\n",
      "0.9644954698809727 0.9642941105013916\n",
      "0.9650679601621148 0.9643364563813159\n",
      "0.9596134800353386 0.9597565959361442\n",
      "0.9614740216434271 0.9614528903322185\n",
      "0.9363643376888481 0.9361363460005915\n"
     ]
    }
   ],
   "source": [
    "degrees=list(np.arange(1,11,1))\n",
    "train_ERROR, val_ERROR, train_ACC, val_ACC = [],[],[],[]\n",
    "for n in degrees:\n",
    "    lr,alpha = 1, 0\n",
    "    poly=PolynomialFeatures(n)\n",
    "    #cross validate\n",
    "    train_acc_CV, test_acc_CV = [],[]#final performance metrics\n",
    "\n",
    "    for i,validation_data in enumerate(Cross_Validation_data):\n",
    "#         print('validating on part %u'%i)\n",
    "        remaining_data_for_training = np.concatenate(Cross_Validation_data[0:i]+Cross_Validation_data[i+1:])\n",
    "        X_train, y_train = remaining_data_for_training[:,:-1], remaining_data_for_training[:,-1:]\n",
    "        X_test, y_test = validation_data[:,:-1], validation_data[:,-1:]\n",
    "\n",
    "        Phi_X = poly.fit_transform(X_train)\n",
    "        Phi_Xt = poly.fit_transform(X_test)\n",
    "\n",
    "        y_pred_train, y_pred_test, train_error, test_error, train_acc, test_acc = GradientDescent(Phi_X, y_train, Phi_Xt, y_test, epochs=100, lr=lr, alpha = alpha)\n",
    "        tupple = classification_performance_metrics(y_pred_test,y_test[:,0],None)\n",
    "\n",
    "        train_error_GD_CV.append(train_error)\n",
    "        test_error_GD_CV.append(test_error)\n",
    "        train_acc_GD_CV.append(train_acc)\n",
    "        test_acc_GD_CV.append(test_acc)\n",
    "\n",
    "        precisions_CV.append(tupple[0])\n",
    "        recalls_CV.append(tupple[1])\n",
    "        F1s_CV.append(tupple[2])\n",
    "        macro_F1_CV.append(tupple[3]) #tupple[4] is confusion matrix\n",
    "        train_acc_CV.append(accuracy(y_pred_train,y_train[:,0]))\n",
    "        test_acc_CV.append(accuracy(y_pred_test, y_test[:,0]))\n",
    "\n",
    "    precisions, recalls, F1s, macro_F1, train_acc, test_acc = sum(precisions_CV)/5, sum(recalls_CV)/5, sum(F1s_CV)/5, sum(macro_F1_CV)/5, sum(train_acc_CV)/5, sum(test_acc_CV)/5\n",
    "    train_error_GD, test_error_GD, train_acc_GD, test_acc_GD = np.array(train_error_GD_CV).sum(axis=0)/5, np.array(test_error_GD_CV).sum(axis=0)/5, np.array(train_acc_GD_CV).sum(axis=0)/5, np.array(test_acc_GD_CV).sum(axis=0)/5\n",
    "    \n",
    "    train_ERROR.append(train_error_GD[-1])\n",
    "    val_ERROR.append(test_error_GD[-1])\n",
    "    train_ACC.append(train_acc)\n",
    "    val_ACC.append(test_acc)\n",
    "    print(train_acc,test_acc)"
   ]
  },
  {
   "cell_type": "code",
   "execution_count": 22,
   "metadata": {
    "scrolled": true
   },
   "outputs": [
    {
     "data": {
      "image/png": "[encoded data removed]",
      "text/plain": [
       "<Figure size 720x288 with 2 Axes>"
      ]
     },
     "metadata": {
      "needs_background": "light"
     },
     "output_type": "display_data"
    }
   ],
   "source": [
    "# listt=[train_ERROR, val_ERROR, train_ACC, val_ACC]\n",
    "degrees=list(np.arange(1,11,1))\n",
    "listt = np.load('logistic_BiasVarDecom.npy',allow_pickle=True)\n",
    "plt.figure(figsize=(10.,4.))\n",
    "plt.subplot(1,2,1)\n",
    "plt.xlabel('model complexity / degree of polynomial')\n",
    "plt.ylabel('error')\n",
    "plt.plot(degrees, listt[0], label='train_error',marker='.')\n",
    "plt.plot(degrees, listt[1], label='val_error',marker='.')\n",
    "plt.legend()\n",
    "plt.subplot(1,2,2)\n",
    "plt.xlabel('model complexity / degree of polynomial')\n",
    "plt.ylabel('acc')\n",
    "plt.plot(degrees, listt[2], label='train_acc',marker='.')\n",
    "plt.plot(degrees, listt[3], label='val_acc',marker='.')\n",
    "plt.legend()\n",
    "plt.savefig('BiasVarianceDecomp.png')\n",
    "plt.show()\n",
    "\n",
    "# listt=[train_ERROR, val_ERROR, train_ACC, val_ACC]\n",
    "# np.save('logistic_BiasVarDecom.npy',listt)"
   ]
  },
  {
   "cell_type": "code",
   "execution_count": 49,
   "metadata": {},
   "outputs": [
    {
     "name": "stdout",
     "output_type": "stream",
     "text": [
      "train acc, TEST acc, macro F1 score\n",
      "0.9658842736891207 0.9645492324654398 0.9643605953142721\n"
     ]
    }
   ],
   "source": [
    "#FINALLY, train on complete TRAIN set and evaluate on TEST set\n",
    "X_train, y_train = train_data[:,:-1], train_data[:,-1:]\n",
    "poly=PolynomialFeatures(4)\n",
    "Phi_X = poly.fit_transform(X_train)\n",
    "Phi_Xt = poly.fit_transform(X_TEST)\n",
    "\n",
    "y_pred_train, y_pred_TEST, train_error, TEST_error, train_acc, TEST_acc = GradientDescent_CrossEntropy(Phi_X, y_train, Phi_Xt, y_TEST, epochs=200, lr=1, alpha = 0)\n",
    "test_metrics = classification_performance_metrics(y_pred_TEST,y_TEST[:,0],'logistic_CrossEntropy_4thDegree')\n",
    "print('train acc, TEST acc, macro F1 score')\n",
    "print( accuracy(y_pred_train, train_data[:,-1]), accuracy(y_pred_TEST, TEST_data[:,-1]), test_metrics[-2] )"
   ]
  },
  {
   "cell_type": "markdown",
   "metadata": {},
   "source": [
    "## Stochastic gradient descent - logistic regression with 4th degree polynomial, CrEntropy loss"
   ]
  },
  {
   "cell_type": "code",
   "execution_count": 53,
   "metadata": {},
   "outputs": [],
   "source": [
    "# Implementing stochastic gradient descent with Cross Entropy\n",
    "def StochasticGradientDescent_CrossEntropy(X_train,y_train, X_test,y_test, epochs, lr, batch_size):    \n",
    "    # X_train, X_test shape = (n,d)\n",
    "    # y_train, y_test shape = (n,1) IMPORTANT - NOT in 1-hot\n",
    "    \n",
    "    # convert into one-hot representation\n",
    "    y_train_1HOT = np.eye(6)[y_train[:,0].astype('uint8')]\n",
    "    y_test_1HOT = np.eye(6)[y_test[:,0].astype('uint8')]\n",
    "    \n",
    "    train_error, test_error, train_acc, test_acc = [], [], [], []\n",
    "    \n",
    "    n,m=X_train.shape\n",
    "    \n",
    "    #initialise weights\n",
    "    w = np.random.random((m,6)) #number of classes = 6    \n",
    "    for _ in range(epochs):\n",
    "        print('epoch %u'%_,end='\\r')\n",
    "        X_train_mini_batches = np.array_split(X_train, n//batch_size)\n",
    "        y_train_mini_batches = np.array_split(y_train, n//batch_size)\n",
    "        y_train_1HOT_mini_batches = np.array_split(y_train_1HOT, n//batch_size)\n",
    "        \n",
    "        for __ in range(len(X_train_mini_batches)):\n",
    "            X_train_mini_batch = X_train_mini_batches[__]\n",
    "            y_train_1HOT_mini_batch = y_train_1HOT_mini_batches[__]\n",
    "            \n",
    "            hypothesis_train = hypothesis(X_train_mini_batch, w)\n",
    "            hypothesis_test = hypothesis(X_test, w)\n",
    "            \n",
    "            y_pred_train = X_train_mini_batch.dot(w)\n",
    "            y_pred_test = X_test.dot(w)\n",
    "            \n",
    "            gradient = (2*((X_train_mini_batch.T).dot(hypothesis_train - y_train_1HOT_mini_batch)) / n) + 2*alpha*w \n",
    "            w = w - lr * gradient\n",
    "        \n",
    "            train_error.append(cross_entropy_loss(y_train_1HOT_mini_batch, hypothesis_train))\n",
    "            test_error.append(cross_entropy_loss(y_test_1HOT, hypothesis_test))           \n",
    "            \n",
    "            y_pred_train = np.argmax(hypothesis_train,axis=1)\n",
    "            y_pred_test = np.argmax(hypothesis_test,axis=1)\n",
    "\n",
    "            train_acc.append(accuracy(y_pred_train, y_train_mini_batches[__][:,0].astype(np.uint8)))\n",
    "            test_acc.append(accuracy(y_pred_test, y_test[:,0].astype(np.uint8)))\n",
    "\n",
    "        if _ == epochs-5:\n",
    "            lr/=10.\n",
    "        w = w - lr * gradient\n",
    "        \n",
    "    hypothesis_train = hypothesis(X_train, w)\n",
    "    hypothesis_test = hypothesis(X_test, w)\n",
    "\n",
    "    y_pred_train = np.argmax(hypothesis_train,axis=1)\n",
    "    y_pred_test = np.argmax(hypothesis_test,axis=1)\n",
    "    \n",
    "    return y_pred_train, y_pred_test, train_error, test_error, train_acc, test_acc"
   ]
  },
  {
   "cell_type": "code",
   "execution_count": 54,
   "metadata": {},
   "outputs": [
    {
     "name": "stdout",
     "output_type": "stream",
     "text": [
      "train acc, TEST acc, macro F1 score\n",
      "0.9592053092466553 0.9587821219574252 0.9584733121930048\n"
     ]
    }
   ],
   "source": [
    "#FINALLY, train on complete TRAIN set and evaluate on TEST set\n",
    "X_train, y_train = train_data[:,:-1], train_data[:,-1:]\n",
    "poly=PolynomialFeatures(4)\n",
    "Phi_X = poly.fit_transform(X_train)\n",
    "Phi_Xt = poly.fit_transform(X_TEST)\n",
    "\n",
    "y_pred_train, y_pred_TEST, train_error, TEST_error, train_acc, TEST_acc = StochasticGradientDescent_CrossEntropy(Phi_X, y_train, Phi_Xt, y_TEST, epochs=50, lr=1, batch_size=100)\n",
    "test_metrics = classification_performance_metrics(y_pred_TEST,y_TEST[:,0],'logistic_CrossEntropy_4thDegreeSGD')\n",
    "print('train acc, TEST acc, macro F1 score')\n",
    "print( accuracy(y_pred_train, train_data[:,-1].astype(np.uint8)), accuracy(y_pred_TEST, TEST_data[:,-1].astype(np.uint8)), test_metrics[-2] )"
   ]
  },
  {
   "cell_type": "code",
   "execution_count": 55,
   "metadata": {},
   "outputs": [
    {
     "data": {
      "image/png": "[encoded data removed]",
      "text/plain": [
       "<Figure size 432x288 with 1 Axes>"
      ]
     },
     "metadata": {
      "needs_background": "light"
     },
     "output_type": "display_data"
    }
   ],
   "source": [
    "plt.plot(train_error)\n",
    "plt.plot(TEST_error)\n",
    "plt.show()"
   ]
  },
  {
   "cell_type": "code",
   "execution_count": null,
   "metadata": {},
   "outputs": [],
   "source": []
  }
 ],
 "metadata": {
  "kernelspec": {
   "display_name": "Python 3",
   "language": "python",
   "name": "python3"
  },
  "language_info": {
   "codemirror_mode": {
    "name": "ipython",
    "version": 3
   },
   "file_extension": ".py",
   "mimetype": "text/x-python",
   "name": "python",
   "nbconvert_exporter": "python",
   "pygments_lexer": "ipython3",
   "version": "3.7.5"
  }
 },
 "nbformat": 4,
 "nbformat_minor": 2
}
